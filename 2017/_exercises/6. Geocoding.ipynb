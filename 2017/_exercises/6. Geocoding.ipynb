{
 "cells": [
  {
   "cell_type": "markdown",
   "metadata": {},
   "source": [
    "# Geocoding\n",
    "\n",
    "You can use Python to turn addresses (\"141 Neff Annex Missouri, School of Journalism, Columbia, MO 65211\") into latitude/longitude coordinates -- useful if your analysis involves geography or you want to make an interactive map for an online package, or whatever.\n",
    "\n",
    "We have a CSV of payday lenders in Illinois. We're going to use a Python module called [`geopy`](https://geopy.readthedocs.io/en/latest/) to turn their address into latitude/longitude coordinates, then tack those onto the data as new columns and write that to a new file."
   ]
  },
  {
   "cell_type": "code",
   "execution_count": null,
   "metadata": {},
   "outputs": [],
   "source": [
    "# import the Google geocoder from geopy\n",
    "# import Python's csv and time libaries\n",
    "\n",
    "# Make a geolocator object\n",
    "# Set the `timeout` keyword argument to 5 (seconds)\n",
    "\n",
    "# in a `with` block, open the file to read from and the file to write to\n",
    "\n",
    "    # make a DictReader object\n",
    "    \n",
    "    # define your list of headers\n",
    "    \n",
    "    # make a DictWriter object, passing the list of headers to the `fieldnames` keyword argument\n",
    "    \n",
    "    # write the header row\n",
    "\n",
    "    # start for loop here\n",
    "        # We're going to put an if/else here to prevent the whole class from launching a\n",
    "        # volley of 500 requests at Google. Let's get the first five (row 1 is the header).\n",
    "        # (`line_num` is an attribute of the DictReader object -- it keeps track of what line number you're on)\n",
    "        \n",
    "\n",
    "            # Put the address in a Google-recognizable string: ADDRESS, CITY, STATE ZIP            \n",
    "            \n",
    "            # Geocode that string\n",
    "            \n",
    "            # Plug results from the geocoder right back into the same row of data with new keys\n",
    "            # values: the returned latitude, longitude and address Google matched on.\n",
    "            \n",
    "            # Write the modified row to our new csv.\n",
    "            \n",
    "            # To keep tabs on what's happening, get a printed message with address and line.\n",
    "            \n",
    "            # Before we do all of this with the next row, pause for two seconds.\n",
    "\n",
    "# Alert us with a printed message when this completes and close both files.\n"
   ]
  },
  {
   "cell_type": "code",
   "execution_count": null,
   "metadata": {
    "collapsed": true
   },
   "outputs": [],
   "source": []
  }
 ],
 "metadata": {
  "kernelspec": {
   "display_name": "Python 3",
   "language": "python",
   "name": "python3"
  },
  "language_info": {
   "codemirror_mode": {
    "name": "ipython",
    "version": 3
   },
   "file_extension": ".py",
   "mimetype": "text/x-python",
   "name": "python",
   "nbconvert_exporter": "python",
   "pygments_lexer": "ipython3",
   "version": "3.6.1"
  }
 },
 "nbformat": 4,
 "nbformat_minor": 2
}
