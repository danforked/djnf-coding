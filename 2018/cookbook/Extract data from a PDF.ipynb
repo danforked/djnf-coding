{
 "cells": [
  {
   "cell_type": "markdown",
   "metadata": {},
   "source": [
    "# Extract data from a PDF\n",
    "\n",
    "**Problem**: You have data trapped in a PDF.\n",
    "\n",
    "**Solution**: Use a Python library like [`pdfplumber`](https://github.com/jsvine/pdfplumber) to extract it.\n",
    "\n",
    "The PDF we'll be working with today is [a list of licensed debt collectors in Colorado](https://coag.gov/sites/default/files/contentuploads/cp/ConsumerCreditUnit/InternetReports/carreport_0.pdf). The data start on page 2, and each page has headers.\n",
    "\n",
    "Our steps:\n",
    "1. Import dependencies\n",
    "2. Download the PDF\n",
    "3. Create an empty pandas data frame\n",
    "4. Create a function that extracts data from the table on a single PDF page and returns a data frame\n",
    "5. Loop over the pages, call the function on each page and append the resulting data frame to our empty data frame\n",
    "6. Clean up the data a bit\n",
    "7. Do some basic analysis"
   ]
  },
  {
   "cell_type": "markdown",
   "metadata": {},
   "source": [
    "# 1. Import dependencies"
   ]
  },
  {
   "cell_type": "code",
   "execution_count": null,
   "metadata": {},
   "outputs": [],
   "source": [
    "import requests\n",
    "import pdfplumber\n",
    "import pandas as pd"
   ]
  },
  {
   "cell_type": "markdown",
   "metadata": {},
   "source": [
    "## 2. Download the PDF"
   ]
  },
  {
   "cell_type": "code",
   "execution_count": null,
   "metadata": {},
   "outputs": [],
   "source": [
    "PDF_URL = ('https://coag.gov/sites/default/files/contentuploads/'\n",
    "          'cp/ConsumerCreditUnit/InternetReports/carreport_2.pdf')\n",
    "\n",
    "r = requests.get(PDF_URL)\n",
    "\n",
    "with open('../data/collections.pdf', 'wb') as f:\n",
    "    for block in r.iter_content(1024):\n",
    "        f.write(block)"
   ]
  },
  {
   "cell_type": "markdown",
   "metadata": {},
   "source": [
    "## 3. Create an empty data frame and define the columns\n",
    "\n",
    "We're going to create an empty data frame. By looking at the source PDF, we can also define its column headers."
   ]
  },
  {
   "cell_type": "code",
   "execution_count": null,
   "metadata": {},
   "outputs": [],
   "source": [
    "cols = ['bizname', 'license_loc', 'instate_loc', 'mailing_loc',\n",
    "        'license_no', 'lic_date', 'status', 'cr_date', 'action']\n",
    "\n",
    "df = pd.DataFrame(columns=cols)"
   ]
  },
  {
   "cell_type": "markdown",
   "metadata": {},
   "source": [
    "## 5. Create a function to extract data from a single PDF page\n",
    "\n",
    "This function will be called on every PDF page we hand it. Its job is simple: Take a `pdfplumber.Page` object, extract the table and return the data in a data frame with the same headers as the empty one we just created.\n",
    "\n",
    "{tk - link to notebook on functions}"
   ]
  },
  {
   "cell_type": "code",
   "execution_count": null,
   "metadata": {},
   "outputs": [],
   "source": [
    "def page_to_df(page):\n",
    "    \n",
    "    # find the table on the page and extract the data\n",
    "    table = page.extract_table()\n",
    "    \n",
    "    # grab all rows in the table except for the first one,\n",
    "    # which is the header row\n",
    "    lines = table[1:]\n",
    "    \n",
    "    # return the data in a data frame\n",
    "    return pd.DataFrame(lines, columns=cols)"
   ]
  },
  {
   "cell_type": "markdown",
   "metadata": {},
   "source": [
    "## 6. Loop over the pages and call the function on each page\n",
    "\n",
    "As we extract the data from each page, we'll append the data frame returned by our function to the empty data frame (`df`) that we created earlier. This code block takes a little while to run."
   ]
  },
  {
   "cell_type": "code",
   "execution_count": null,
   "metadata": {},
   "outputs": [],
   "source": [
    "# open the PDF\n",
    "with pdfplumber.open('../data/collections.pdf') as pdf:\n",
    "    \n",
    "    # skip the first page, which doesn't have a data table\n",
    "    pages_with_data = pdf.pages[1:]\n",
    "    \n",
    "    # loop over the pages with data\n",
    "    for page in pages_with_data:\n",
    "        \n",
    "        # call the extraction function to grab the data from this page\n",
    "        df_to_append = page_to_df(page)\n",
    "        \n",
    "        # append it to our main dataframe, chopping off the index column\n",
    "        df = df.append(df_to_append, ignore_index=True)"
   ]
  },
  {
   "cell_type": "markdown",
   "metadata": {},
   "source": [
    "Before we continue, let's take a look at what we've got using the pandas `head()` method."
   ]
  },
  {
   "cell_type": "code",
   "execution_count": null,
   "metadata": {},
   "outputs": [],
   "source": [
    "df.head()"
   ]
  },
  {
   "cell_type": "markdown",
   "metadata": {},
   "source": [
    "I notice two things:\n",
    "- `\\n` newline breaks are being interpreted literally as text -- let's globally replace those\n",
    "- The license date is coming in as a string, not a date, and we might be interested in doing some date filtering later -- let's coerce those values to date objects"
   ]
  },
  {
   "cell_type": "markdown",
   "metadata": {},
   "source": [
    "## 7. Clean up the data a bit"
   ]
  },
  {
   "cell_type": "code",
   "execution_count": null,
   "metadata": {},
   "outputs": [],
   "source": [
    "# kill line breaks\n",
    "df.replace('\\n', ' ', inplace=True, regex=True)\n",
    "\n",
    "# coerce license date col to datetime and sort descending\n",
    "df.lic_date = pd.to_datetime(df.lic_date)\n",
    "df = df.sort_values('lic_date', ascending=False)"
   ]
  },
  {
   "cell_type": "code",
   "execution_count": null,
   "metadata": {},
   "outputs": [],
   "source": [
    "df.head()"
   ]
  },
  {
   "cell_type": "markdown",
   "metadata": {},
   "source": [
    "## 8. Do some basic analysis\n",
    "\n",
    "Let's get a feel for how many records there are and figure out how many of debt collectors have been subject to some kind of \"action.\"\n",
    "\n",
    "According to the Colorado Attorney General (see page 1 of the PDF), the presence of \"Yes\" in the \"action\" column means that the company has been\n",
    "\n",
    "> subject to legal or administrative action by this office or the licensee entered into a voluntary settlement with this office. If the entry is \"yes,\" the licensee may have been subject to one or more letters of admonition, suspension of the license, a judgment or order against the licensee, or other action, including payments (fines, penalties, consumer refunds, or other monetary payments.) Additionally, \"yes\" may mean that the licensee's records include a voluntary settlement or stipulation with this office. If a licensee has been disciplined, it might still retain its license. Actions and settlements are matters of public record although research, copying, and mailing costs may apply. Contact this office for more information."
   ]
  },
  {
   "cell_type": "code",
   "execution_count": null,
   "metadata": {},
   "outputs": [],
   "source": [
    "# how many records are there?\n",
    "record_count = len(df)"
   ]
  },
  {
   "cell_type": "code",
   "execution_count": null,
   "metadata": {},
   "outputs": [],
   "source": [
    "# let's look just at collectors who have had some action taken against them\n",
    "action = df[df.action == 'Yes']\n",
    "\n",
    "story_sentence = ('Of {:,} licensed debt collectors in Colorado, {:,}'\n",
    "                 ' ({:.2f}%) have been subject to some form of legal '\n",
    "                 'or administrative action, according to an analysis of'\n",
    "                 ' Colorado Secretary of State data.')\n",
    "\n",
    "print(story_sentence.format(record_count, len(action), (len(action) / record_count) * 100))"
   ]
  },
  {
   "cell_type": "code",
   "execution_count": null,
   "metadata": {},
   "outputs": [],
   "source": [
    "# what else?"
   ]
  }
 ],
 "metadata": {
  "kernelspec": {
   "display_name": "Python 3",
   "language": "python",
   "name": "python3"
  },
  "language_info": {
   "codemirror_mode": {
    "name": "ipython",
    "version": 3
   },
   "file_extension": ".py",
   "mimetype": "text/x-python",
   "name": "python",
   "nbconvert_exporter": "python",
   "pygments_lexer": "ipython3",
   "version": "3.6.4"
  }
 },
 "nbformat": 4,
 "nbformat_minor": 2
}
