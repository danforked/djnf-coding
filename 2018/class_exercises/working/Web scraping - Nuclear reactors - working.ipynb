{
 "cells": [
  {
   "cell_type": "markdown",
   "metadata": {},
   "source": [
    "# Let's scrape some nuclear reactors\n",
    "\n",
    "Our goal: Scrape [a table of U.S. nuclear reactors](https://www.nrc.gov/reactors/operating/list-power-reactor-units.html) into a CSV."
   ]
  },
  {
   "cell_type": "markdown",
   "metadata": {},
   "source": [
    "### Import the libraries"
   ]
  },
  {
   "cell_type": "code",
   "execution_count": 1,
   "metadata": {},
   "outputs": [],
   "source": [
    "# import csv, requests, beautiful soup\n"
   ]
  },
  {
   "cell_type": "markdown",
   "metadata": {},
   "source": [
    "### Fetch and parse the HTML"
   ]
  },
  {
   "cell_type": "code",
   "execution_count": 2,
   "metadata": {},
   "outputs": [],
   "source": [
    "# define the url\n",
    "\n",
    "\n",
    "# get the page\n",
    "\n",
    "\n",
    "# specify the encoding - not always necessary\n",
    "\n",
    "\n",
    "# turn it into soup\n"
   ]
  },
  {
   "cell_type": "markdown",
   "metadata": {},
   "source": [
    "### Find the table"
   ]
  },
  {
   "cell_type": "code",
   "execution_count": 3,
   "metadata": {},
   "outputs": [],
   "source": [
    "# find the one table\n"
   ]
  },
  {
   "cell_type": "markdown",
   "metadata": {},
   "source": [
    "### Loop over the rows and write to CSV"
   ]
  },
  {
   "cell_type": "code",
   "execution_count": 4,
   "metadata": {},
   "outputs": [],
   "source": [
    "# open the csv to write to\n",
    "with open('reactors.csv', 'w') as outfile:\n",
    "    \n",
    "    # create a DictWriter object\n",
    "\n",
    "    # write the header row\n",
    "\n",
    "    # loop over the table rows\n",
    "\n",
    "        # each <tr> has some <td> cells inside it; we'll move these into variables,\n",
    "        # do some string manipulations and write to the CSV\n",
    "\n",
    "\n",
    "        # reactor name, detail page link and docket number are all part of the first cell\n",
    "        # the .contents() method returns a list of a tag's children -->\n",
    "        # https://www.crummy.com/software/BeautifulSoup/bs4/doc/#contents-and-children\n",
    "        # get the name\n",
    "    \n",
    "        # get the link\n",
    "\n",
    "        # get the docket\n",
    "        \n",
    "        # license number is in the second cell\n",
    "\n",
    "        \n",
    "        # reactor type is in the third cell\n",
    "\n",
    "\n",
    "        # location is in the fourth cell\n",
    "\n",
    "        \n",
    "        # some of the locations have multiple internal spaces -- here's a trick for dealing with that\n",
    "        # https://stackoverflow.com/a/1546251\n",
    "\n",
    "        \n",
    "        # owner is in the fifth cell\n",
    "\n",
    "        \n",
    "        # region is in the sixth cell\n",
    "\n",
    "        # write everything out to CSV as a dictionary\n"
   ]
  },
  {
   "cell_type": "code",
   "execution_count": null,
   "metadata": {},
   "outputs": [],
   "source": []
  }
 ],
 "metadata": {
  "kernelspec": {
   "display_name": "Python 3",
   "language": "python",
   "name": "python3"
  },
  "language_info": {
   "codemirror_mode": {
    "name": "ipython",
    "version": 3
   },
   "file_extension": ".py",
   "mimetype": "text/x-python",
   "name": "python",
   "nbconvert_exporter": "python",
   "pygments_lexer": "ipython3",
   "version": "3.6.4"
  }
 },
 "nbformat": 4,
 "nbformat_minor": 2
}
