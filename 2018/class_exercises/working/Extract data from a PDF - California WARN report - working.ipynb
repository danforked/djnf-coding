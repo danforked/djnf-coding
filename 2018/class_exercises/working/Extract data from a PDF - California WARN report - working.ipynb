{
 "cells": [
  {
   "cell_type": "markdown",
   "metadata": {},
   "source": [
    "# Extract data from a PDF - California WARN report\n",
    "\n",
    "**Problem**: You have data trapped in a PDF.\n",
    "\n",
    "**Solution**: Use a Python library like [`pdfplumber`](https://github.com/jsvine/pdfplumber) to extract it.\n",
    "\n",
    "This PDF we're working with here is [a report of employers planning to lay off workers in California](http://www.edd.ca.gov/jobs_and_training/Layoff_Services_WARN.htm#ListingofWARNNotices).\n",
    "\n",
    "Our steps:\n",
    "1. Import dependencies\n",
    "2. Extract the data and write to a CSV (it's usually a good idea to cache your data)\n",
    "3. Load the CSV into a pandas dataframe\n",
    "4. Analyze!"
   ]
  },
  {
   "cell_type": "markdown",
   "metadata": {},
   "source": [
    "### 1. Import dependencies"
   ]
  },
  {
   "cell_type": "code",
   "execution_count": null,
   "metadata": {},
   "outputs": [],
   "source": [
    "# import csv, pdfplumber, pandas\n",
    "\n",
    "\n"
   ]
  },
  {
   "cell_type": "markdown",
   "metadata": {},
   "source": [
    "We'll also look at the source PDF and define the column headers.\n",
    "\n",
    "While we're in here, let's define variables for the path to our PDF and to the CSV we'll write out to."
   ]
  },
  {
   "cell_type": "code",
   "execution_count": null,
   "metadata": {},
   "outputs": [],
   "source": [
    "# define the columns as a list\n",
    "\n",
    "# where does the PDF live?\n",
    "\n",
    "# where ~will~ the CSV live?\n"
   ]
  },
  {
   "cell_type": "markdown",
   "metadata": {},
   "source": [
    "### 2. Extract the data and write to CSV\n",
    "\n",
    "👉 For more details on reading and writing CSV files, [check out this notebook](../../reference/Reading%20and%20writing%20delimited%20data%20files%20with%20vanilla%20Python.ipynb)."
   ]
  },
  {
   "cell_type": "code",
   "execution_count": null,
   "metadata": {},
   "outputs": [],
   "source": [
    "# open the PDF ~and~ a CSV to write out to\n",
    "\n",
    "    \n",
    "    # create a list-based writer object\n",
    "\n",
    "    \n",
    "    # write the header row\n",
    "\n",
    "\n",
    "    # loop over the PDF pages\n",
    "\n",
    "        \n",
    "        # extract the tables on each page and select the first one\n",
    "\n",
    "        \n",
    "        # loop over the rows in the table\n",
    "\n",
    "            # if it's a header row, skip and go to the next iteration\n",
    "            # see: https://docs.python.org/3/tutorial/controlflow.html#break-and-continue-statements-and-else-clauses-on-loops\n",
    "\n",
    "\n",
    "            # if it's the summary table, we're done, son\n",
    "\n",
    "\n",
    "            # otherwise, write the row to file\n"
   ]
  },
  {
   "cell_type": "markdown",
   "metadata": {},
   "source": [
    "### 3. Load the CSV into a pandas dataframe\n",
    "\n",
    "We'll also pass a list of date columns to the keyword argument `parse_dates` in the [`read_csv()`](https://pandas.pydata.org/pandas-docs/stable/generated/pandas.read_csv.html) method. That way our dates will be interpreted as dates, not text."
   ]
  },
  {
   "cell_type": "code",
   "execution_count": null,
   "metadata": {},
   "outputs": [],
   "source": [
    "# load the data into a dataframe, specifying the encoding and the columns to parse as dates\n"
   ]
  },
  {
   "cell_type": "code",
   "execution_count": null,
   "metadata": {},
   "outputs": [],
   "source": [
    "# check the output with `head()`\n"
   ]
  },
  {
   "cell_type": "markdown",
   "metadata": {},
   "source": [
    "### 4. Analyze!\n",
    "\n",
    "What questions do you have?"
   ]
  },
  {
   "cell_type": "code",
   "execution_count": null,
   "metadata": {},
   "outputs": [],
   "source": []
  }
 ],
 "metadata": {
  "kernelspec": {
   "display_name": "Python 3",
   "language": "python",
   "name": "python3"
  },
  "language_info": {
   "codemirror_mode": {
    "name": "ipython",
    "version": 3
   },
   "file_extension": ".py",
   "mimetype": "text/x-python",
   "name": "python",
   "nbconvert_exporter": "python",
   "pygments_lexer": "ipython3",
   "version": "3.6.4"
  }
 },
 "nbformat": 4,
 "nbformat_minor": 2
}
