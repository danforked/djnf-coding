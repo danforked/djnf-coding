{
 "cells": [
  {
   "cell_type": "markdown",
   "metadata": {},
   "source": [
    "# Extract data from a PDF - CO debt collectors\n",
    "\n",
    "The PDF we'll be working with here is [a list of licensed debt collectors in Colorado](https://coag.gov/sites/default/files/contentuploads/cp/ConsumerCreditUnit/InternetReports/carreport_0.pdf). The data start on page 2, and each page has headers.\n",
    "\n",
    "Our steps:\n",
    "1. Import dependencies\n",
    "2. Create an empty pandas data frame and define the columns\n",
    "3. Create a function that extracts data from the table on a single PDF page and returns a data frame\n",
    "4. Loop over the pages, call the function on each page and append the resulting data frame to our empty data frame\n",
    "5. Clean up the data a bit\n",
    "6. Do some basic analysis"
   ]
  },
  {
   "cell_type": "markdown",
   "metadata": {},
   "source": [
    "### 1. Import dependencies"
   ]
  },
  {
   "cell_type": "code",
   "execution_count": null,
   "metadata": {},
   "outputs": [],
   "source": [
    "# import pdfplumber and pandas\n"
   ]
  },
  {
   "cell_type": "markdown",
   "metadata": {},
   "source": [
    "### 2. Create an empty data frame and define the columns\n",
    "\n",
    "We're going to [create an empty data frame](https://pandas.pydata.org/pandas-docs/stable/generated/pandas.DataFrame.html). By looking at the source PDF, we can also define its column headers."
   ]
  },
  {
   "cell_type": "code",
   "execution_count": null,
   "metadata": {},
   "outputs": [],
   "source": [
    "# path to the PDF we'll be parsing\n",
    "\n",
    "# define the column names in a list\n",
    "\n",
    "# create an empty dataframe\n"
   ]
  },
  {
   "cell_type": "markdown",
   "metadata": {},
   "source": [
    "### 3. Create a function to extract data from a single PDF page\n",
    "\n",
    "This function will be called on every PDF page we hand it. Its job is simple: Take a `pdfplumber.Page` object, extract the table and return the data in a data frame with the same headers as the empty one we just created.\n",
    "\n",
    "👉 For more details on functions, [see this notebook](../../reference/Functions.ipynb)."
   ]
  },
  {
   "cell_type": "code",
   "execution_count": null,
   "metadata": {},
   "outputs": [],
   "source": [
    "# define the function -- takes one page\n",
    "\n",
    "    \n",
    "    # find the table on the page and extract the data\n",
    "\n",
    "    \n",
    "    # grab all rows in the table except for the first one,\n",
    "    # which is the header row\n",
    "\n",
    "    \n",
    "    # return the data in a data frame\n"
   ]
  },
  {
   "cell_type": "markdown",
   "metadata": {},
   "source": [
    "### 4. Loop over the pages and call the function on each page\n",
    "\n",
    "As we extract the data from each page, we'll [append](https://pandas.pydata.org/pandas-docs/stable/generated/pandas.DataFrame.append.html) the data frame returned by our function to the empty data frame (`df`) that we created earlier. This code block takes a little while to run.\n",
    "\n",
    "👉 For more details on lists, slicing and _for loops_, [see this notebook](../../reference/Python%20data%20types%20and%20basic%20syntax.ipynb#for-loops)."
   ]
  },
  {
   "cell_type": "code",
   "execution_count": null,
   "metadata": {},
   "outputs": [],
   "source": [
    "# open the PDF\n",
    "\n",
    "    \n",
    "    # use list slicing to skip the first page, which doesn't have a data table\n",
    "\n",
    "    \n",
    "    # loop over the pages with data\n",
    "\n",
    "        \n",
    "        # call the extraction function to grab the data from this page\n",
    "\n",
    "        \n",
    "        # append this data to our main dataframe, chopping off the index column\n"
   ]
  },
  {
   "cell_type": "markdown",
   "metadata": {},
   "source": [
    "Before we continue, let's take a look at what we've got using the pandas `head()` method."
   ]
  },
  {
   "cell_type": "code",
   "execution_count": null,
   "metadata": {},
   "outputs": [],
   "source": [
    "# check the output with `head()`\n"
   ]
  },
  {
   "cell_type": "markdown",
   "metadata": {},
   "source": [
    "### 5. Clean up the data a bit\n",
    "\n",
    "I notice two things:\n",
    "- `\\n` newline breaks are being interpreted literally as text -- let's globally [replace](https://pandas.pydata.org/pandas-docs/stable/generated/pandas.DataFrame.replace.html) those\n",
    "- The license date is coming in as a string, not a date, and we might be interested in doing some date filtering later -- let's coerce those values to date objects with the [`to_datetime()`](https://pandas.pydata.org/pandas-docs/stable/generated/pandas.to_datetime.html) method"
   ]
  },
  {
   "cell_type": "code",
   "execution_count": null,
   "metadata": {},
   "outputs": [],
   "source": [
    "# kill line breaks\n",
    "\n",
    "\n",
    "# coerce license date col to datetime\n"
   ]
  },
  {
   "cell_type": "code",
   "execution_count": null,
   "metadata": {},
   "outputs": [],
   "source": [
    "# check the output with `head()`\n"
   ]
  },
  {
   "cell_type": "markdown",
   "metadata": {},
   "source": [
    "## 6. Do some basic analysis\n",
    "\n",
    "Let's get a feel for how many records there are and figure out how many of debt collectors have been subject to some kind of \"action.\"\n",
    "\n",
    "According to the Colorado Attorney General (see page 1 of the PDF), the presence of \"Yes\" in the \"action\" column means that the company has been\n",
    "\n",
    "> subject to legal or administrative action by this office or the licensee entered into a voluntary settlement with this office. If the entry is \"yes,\" the licensee may have been subject to one or more letters of admonition, suspension of the license, a judgment or order against the licensee, or other action, including payments (fines, penalties, consumer refunds, or other monetary payments.) Additionally, \"yes\" may mean that the licensee's records include a voluntary settlement or stipulation with this office. If a licensee has been disciplined, it might still retain its license. Actions and settlements are matters of public record although research, copying, and mailing costs may apply. Contact this office for more information.\n",
    "\n",
    "👉 We're about to do some string formatting. For more details on string formatting, [check out this notebook](../../reference/String%20formatting.ipynb)."
   ]
  },
  {
   "cell_type": "code",
   "execution_count": null,
   "metadata": {},
   "outputs": [],
   "source": [
    "# how many records are there? use `len()`\n"
   ]
  },
  {
   "cell_type": "code",
   "execution_count": null,
   "metadata": {},
   "outputs": [],
   "source": [
    "# let's filter to look just at collectors who have had some action taken against them\n",
    "\n",
    "\n",
    "# use string formatting to write a formatted sentence\n",
    "# https://docs.python.org/3.4/library/string.html#format-examples\n",
    "\n",
    "# construct your sentence\n",
    "\n",
    "# and print it\n"
   ]
  },
  {
   "cell_type": "code",
   "execution_count": null,
   "metadata": {},
   "outputs": [],
   "source": [
    "# what else?"
   ]
  }
 ],
 "metadata": {
  "kernelspec": {
   "display_name": "Python 3",
   "language": "python",
   "name": "python3"
  },
  "language_info": {
   "codemirror_mode": {
    "name": "ipython",
    "version": 3
   },
   "file_extension": ".py",
   "mimetype": "text/x-python",
   "name": "python",
   "nbconvert_exporter": "python",
   "pygments_lexer": "ipython3",
   "version": "3.6.4"
  }
 },
 "nbformat": 4,
 "nbformat_minor": 2
}
