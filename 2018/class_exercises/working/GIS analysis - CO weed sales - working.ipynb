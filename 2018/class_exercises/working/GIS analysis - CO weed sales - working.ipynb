{
 "cells": [
  {
   "cell_type": "markdown",
   "metadata": {},
   "source": [
    "# GIS analysis with geopandas - CO weed sales\n",
    "\n",
    "Let's take a look at one year of [county-level cannabis sales data in Colorado](https://www.colorado.gov/pacific/revenue/colorado-marijuana-sales-reports). We shall plot it out on a map.\n",
    "\n",
    "**Our goal**: To map per-capita retail cannabis sales in Colorado by county in 2017.\n",
    "\n",
    "**Our data**: A CSV lives here: `../../data/colo-cannabis-sales.csv`.\n",
    "\n",
    "A few things to note about this data:\n",
    "- Every row in our data is the sum of one month of sales for one category of cannabis (\"retail\" or \"medical\") for one county\n",
    "- Not every county in Colorado has retail pot shops\n",
    "- To maintain taxpayer privacy, the state releases aggregate sales data _only_ for counties with at least three dispensaries, and then only if none represent more than 80 percent of total sales, according to the Colorado Department of Revenue. Totals for counties that don't meet these criteria are represented in the data as 'NR'\n",
    "\n",
    "Other data we will use as we explore this topic:\n",
    "- `../../data/colo-county-pop.csv`: A CSV with Colorado county [FIPS](https://en.wikipedia.org/wiki/Federal_Information_Processing_Standards) codes, county names and 2016 population estimates.\n",
    "- `../../data/co-counties.shp`: A Census Bureau [shapefile](https://en.wikipedia.org/wiki/Shapefile) of Colorado counties."
   ]
  },
  {
   "cell_type": "markdown",
   "metadata": {},
   "source": [
    "### Import dependencies\n",
    "\n",
    "We'll need pandas and geopandas.\n",
    "\n",
    "We'll also set up a [\"magic function\"](https://stackoverflow.com/a/43028034) to plot our map inline."
   ]
  },
  {
   "cell_type": "code",
   "execution_count": null,
   "metadata": {},
   "outputs": [],
   "source": [
    "# import pandas and geopandas and call our magic function for matplotlib\n"
   ]
  },
  {
   "cell_type": "markdown",
   "metadata": {},
   "source": [
    "### Read in the weed data"
   ]
  },
  {
   "cell_type": "code",
   "execution_count": null,
   "metadata": {},
   "outputs": [],
   "source": [
    "# read in the cannabis sales data csv\n"
   ]
  },
  {
   "cell_type": "code",
   "execution_count": null,
   "metadata": {},
   "outputs": [],
   "source": [
    "# check the output with `head()`\n"
   ]
  },
  {
   "cell_type": "markdown",
   "metadata": {},
   "source": [
    "### Read in the county data\n",
    "\n",
    "Again, we're going to use the `dtype` argument to make sure that the `fips` column comes in as a string."
   ]
  },
  {
   "cell_type": "code",
   "execution_count": null,
   "metadata": {},
   "outputs": [],
   "source": [
    "# read in the county population data CSV\n"
   ]
  },
  {
   "cell_type": "code",
   "execution_count": null,
   "metadata": {},
   "outputs": [],
   "source": [
    "# check the output with `head()`\n"
   ]
  },
  {
   "cell_type": "markdown",
   "metadata": {},
   "source": [
    "### Filter for retail sales\n",
    "\n",
    "First, use `unique()` to see what values are in that column. Then filter for the one we want."
   ]
  },
  {
   "cell_type": "code",
   "execution_count": null,
   "metadata": {},
   "outputs": [],
   "source": [
    "# use `unique()` to figure out what types of weed we're dealing with\n"
   ]
  },
  {
   "cell_type": "code",
   "execution_count": null,
   "metadata": {},
   "outputs": [],
   "source": [
    "# filter for retail\n"
   ]
  },
  {
   "cell_type": "code",
   "execution_count": null,
   "metadata": {},
   "outputs": [],
   "source": [
    "# check the output with `head()`\n"
   ]
  },
  {
   "cell_type": "markdown",
   "metadata": {},
   "source": [
    "### Filter for 2017 data"
   ]
  },
  {
   "cell_type": "code",
   "execution_count": null,
   "metadata": {},
   "outputs": [],
   "source": [
    "# filter ~that~ dataframe to just get data for 2017\n"
   ]
  },
  {
   "cell_type": "markdown",
   "metadata": {},
   "source": [
    "### Group weed data by county for annual total\n",
    "\n",
    "Every row in our data is one month of sales data -- we want to get the annual total. So we'll use the `groupby()` and `sum()` methods to calculate that.\n",
    "\n",
    "The object we end up with isn't _quite_ what we need to join this data with our other dataframes, though, so we'll also [reset the index](https://pandas.pydata.org/pandas-docs/stable/generated/pandas.DataFrame.reset_index.html) to get back to something we can work with."
   ]
  },
  {
   "cell_type": "code",
   "execution_count": null,
   "metadata": {},
   "outputs": [],
   "source": [
    "# select county and amount columns, `groupby()` county, sum values, reset index\n"
   ]
  },
  {
   "cell_type": "code",
   "execution_count": null,
   "metadata": {},
   "outputs": [],
   "source": [
    "# check the output with `head()`\n"
   ]
  },
  {
   "cell_type": "markdown",
   "metadata": {},
   "source": [
    "### Join the grouped weed data with the county data\n",
    "\n",
    "Now we'll smash together the weed data and the county data, and to do that, we're going to use the pandas [`merge()`](https://pandas.pydata.org/pandas-docs/stable/generated/pandas.DataFrame.merge.html) method. We'll pass it four arguments:\n",
    "- `grouped`, the \"left\" dataframe we're joining\n",
    "- `county_df`, the \"right\" dataframe we're joining\n",
    "- `left_on='county'`, which tells us which column in the _left_ dataframe to join on\n",
    "- `right_on='county_name'`, which tells us which column in the _right_ dataframe to join on"
   ]
  },
  {
   "cell_type": "code",
   "execution_count": null,
   "metadata": {},
   "outputs": [],
   "source": [
    "# join that data with the county dataframe\n"
   ]
  },
  {
   "cell_type": "code",
   "execution_count": null,
   "metadata": {},
   "outputs": [],
   "source": [
    "# check the output with `head()`\n"
   ]
  },
  {
   "cell_type": "markdown",
   "metadata": {},
   "source": [
    "### Calculate per-capita weed sales\n",
    "\n",
    "The math is pretty simple -- divide the amount into the population -- so adding a calculated column is also pretty simple.\n",
    "\n",
    "Then we'll sort by our new column to see which county rises to the top."
   ]
  },
  {
   "cell_type": "code",
   "execution_count": null,
   "metadata": {},
   "outputs": [],
   "source": [
    "# calculate per-capita weed sales in a new column\n"
   ]
  },
  {
   "cell_type": "code",
   "execution_count": null,
   "metadata": {},
   "outputs": [],
   "source": [
    "# sort descending and check the output with `head()`\n"
   ]
  },
  {
   "cell_type": "markdown",
   "metadata": {},
   "source": [
    "### Let's start prepping that map\n",
    "\n",
    "A table is cool and all, but sometimes patterns emerge from looking at a visualization. Let's plot our data as a [choropleth map](https://en.wikipedia.org/wiki/Choropleth_map).\n",
    "\n",
    "First, let's just grab the data that we need."
   ]
  },
  {
   "cell_type": "code",
   "execution_count": null,
   "metadata": {},
   "outputs": [],
   "source": [
    "# select only the columns of data we're interested in\n"
   ]
  },
  {
   "cell_type": "markdown",
   "metadata": {},
   "source": [
    "### Read in the shapefile data\n",
    "\n",
    "The geopandas [`read_file()`](http://geopandas.org/io.html#reading-spatial-data) method is our horse."
   ]
  },
  {
   "cell_type": "code",
   "execution_count": null,
   "metadata": {},
   "outputs": [],
   "source": [
    "# read in the colorado counties shapefile\n"
   ]
  },
  {
   "cell_type": "code",
   "execution_count": null,
   "metadata": {},
   "outputs": [],
   "source": [
    "# check the output with `head()`\n"
   ]
  },
  {
   "cell_type": "markdown",
   "metadata": {},
   "source": [
    "### Merge the GIS file with our grouped dataframe\n",
    "\n",
    "We're going to use `merge()` again. This time, though, we're going to hand it _five_ arguments:\n",
    "- `county_gis[['GEOID10', 'NAME10', 'geometry']]`, the \"left\" dataframe to join, in this case a slimmed-down version of the shapefile we just read in\n",
    "- `data_to_map`, the \"right\" dataframe to join\n",
    "- `how='left'`, which specifies what _kind_ of join we're doing -- in this case, we want to keep all of the counties in our geodataframe (on the left), even if they don't have any associated data, and the [default](https://pandas.pydata.org/pandas-docs/stable/generated/pandas.DataFrame.merge.html) for this argument is \"inner\"\n",
    "- `left_on='GEOID10'`, which specifies the column name in the \"left\" dataframe to join on\n",
    "- `right_on='county_code'`, which specifies the column name in the \"right\" dataframe to join on"
   ]
  },
  {
   "cell_type": "code",
   "execution_count": null,
   "metadata": {},
   "outputs": [],
   "source": [
    "# merge the county GIS data with the data to map\n"
   ]
  },
  {
   "cell_type": "code",
   "execution_count": null,
   "metadata": {},
   "outputs": [],
   "source": [
    "# check the output with `head()`\n"
   ]
  },
  {
   "cell_type": "markdown",
   "metadata": {},
   "source": [
    "### (Finally!) draw the map\n",
    "\n",
    "We're going to hand the [`plot()`](http://geopandas.org/mapping.html) method four arguments: \n",
    "- `column='per_capita'`, which [specifies](http://geopandas.org/mapping.html#choropleth-maps) the column of data to use to calculate the color of each county\n",
    "- `edgecolor='black'`, which specifies what color to outline the counties in\n",
    "- `cmap='YlGn'`, which specifies the [colormap](https://matplotlib.org/users/colormaps.html) to use\n",
    "- `figsize=(13,7)`, which sets the size of the output"
   ]
  },
  {
   "cell_type": "code",
   "execution_count": null,
   "metadata": {},
   "outputs": [],
   "source": [
    "# plot the results on a map\n"
   ]
  },
  {
   "cell_type": "markdown",
   "metadata": {},
   "source": [
    "Spot the outlier ..."
   ]
  }
 ],
 "metadata": {
  "kernelspec": {
   "display_name": "Python 3",
   "language": "python",
   "name": "python3"
  },
  "language_info": {
   "codemirror_mode": {
    "name": "ipython",
    "version": 3
   },
   "file_extension": ".py",
   "mimetype": "text/x-python",
   "name": "python",
   "nbconvert_exporter": "python",
   "pygments_lexer": "ipython3",
   "version": "3.6.4"
  }
 },
 "nbformat": 4,
 "nbformat_minor": 2
}
