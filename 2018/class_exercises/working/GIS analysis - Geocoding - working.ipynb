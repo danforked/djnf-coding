{
 "cells": [
  {
   "cell_type": "markdown",
   "metadata": {},
   "source": [
    "# Let's geocode some addresses\n",
    "\n",
    "Geocoding is the process of turning an address -- `'141 Neff Annex, Columbia, MO 65211'` -- into a latitude/longitude coordinate pair -- `(38.9480979,-92.3303756)`. You'd need to do this if you wanted to do some GIS analysis or make an interactive map or whatever.\n",
    "\n",
    "**Our task**: To geocode the addresses of your internship newsrooms.\n",
    "\n",
    "**Our data** can be found here: `../../data/djnf_data_2018.csv`.\n",
    "\n",
    "For this task, we shall use a library called [`geopy`](https://geopy.readthedocs.io/en/stable/) with an open-source geocoding engine called [OpenCage](https://geocoder.opencagedata.com/api). Before setting up this script, [I signed up for an API key](https://geocoder.opencagedata.com/users/sign_up) and saved that key as an [environment variable](https://en.wikipedia.org/wiki/Environment_variable) on this machine. \n",
    "\n",
    "The `geopy` library allows you to use other geocoding engines, including Google's, which is (in my experience) the most accurate. But [recent changes to its service](https://cloud.google.com/maps-platform/user-guide/account-changes/#no-plan) mean that you now must supply a credit card when you apply for an API key, which is why we're not using it here, but it's worth exploring.\n",
    "\n",
    "We'll also use our friend `pandas` and a couple of built-in Python modules: [`os`](https://docs.python.org/3/library/os.html) (to access the API key) and [`time`](https://docs.python.org/3/library/time.html) (to pause between API requests).\n",
    "\n",
    "Our steps:\n",
    "1. Import the modules we need\n",
    "2. Grab the environment variable that your computer is keeping track of -- a key that will allow us to use the OpenCage API\n",
    "2. Set up the geocoder\n",
    "3. Read the data into a pandas dataframe\n",
    "4. Write a short function to geocode an address and return the coordinates\n",
    "5. Apply that function to each row of our dataframe"
   ]
  },
  {
   "cell_type": "markdown",
   "metadata": {},
   "source": [
    "### 1. Import the modules we need"
   ]
  },
  {
   "cell_type": "code",
   "execution_count": null,
   "metadata": {},
   "outputs": [],
   "source": [
    "# import time, os, pandas, opencage geocoder from geopy\n"
   ]
  },
  {
   "cell_type": "markdown",
   "metadata": {},
   "source": [
    "### 2. Grab the environment variable\n",
    "\n",
    "`os.environ` is a dictionary of environment variables on your computer."
   ]
  },
  {
   "cell_type": "code",
   "execution_count": null,
   "metadata": {},
   "outputs": [],
   "source": [
    "# nab the opencage geocoder key from your computer's environment\n"
   ]
  },
  {
   "cell_type": "markdown",
   "metadata": {},
   "source": [
    "### 3. Set up the geocoder"
   ]
  },
  {
   "cell_type": "code",
   "execution_count": null,
   "metadata": {},
   "outputs": [],
   "source": [
    "# set up the geocoder\n"
   ]
  },
  {
   "cell_type": "markdown",
   "metadata": {},
   "source": [
    "### 4. Read the data into pandas"
   ]
  },
  {
   "cell_type": "code",
   "execution_count": null,
   "metadata": {},
   "outputs": [],
   "source": [
    "# read in the DJNF intern data csv\n"
   ]
  },
  {
   "cell_type": "code",
   "execution_count": null,
   "metadata": {},
   "outputs": [],
   "source": [
    "# check the output with `head()`\n"
   ]
  },
  {
   "cell_type": "markdown",
   "metadata": {},
   "source": [
    "### 5. Write a function to process one row of data\n",
    "\n",
    "Our function will accept one row of data in our data frame. It will take the value in the \"address\" field and geocode it using the geocoder object we created earlier. It will grab the `latitude` and `longitude` values from the object that gets returned. It will print the original address and these coordinates, pause (\"sleep\") for two seconds -- this is to avoid getting banned by OpenCage -- then return the coordinates.\n",
    "\n",
    "An `if/else` branch handles cases where the geocoder is unsuccessful -- in that case, it returns `(0, 0)`.\n",
    "\n",
    "![0,0](../../img/middle-of-the-world.png \"0,0\")\n",
    "\n",
    "👉 For more details on functions, see [this notebook](../../reference/Functions.ipynb).\n",
    "\n",
    "👉 For more details on if statements, see [this notebook](../../reference/Python%20data%20types%20and%20basic%20syntax.ipynb#if-statements)."
   ]
  },
  {
   "cell_type": "code",
   "execution_count": null,
   "metadata": {},
   "outputs": [],
   "source": [
    "# define the geocoding function\n",
    "\n",
    "    '''given a row of data, geocode the address and return the coordinates'''\n",
    "    \n",
    "    # geocode the value in the `address` column\n",
    "\n",
    "    \n",
    "    # make sure it worked with an if/else branch\n",
    "\n",
    "        # get the lat/lng coordinates\n",
    "\n",
    "\n",
    "        # print to show us that it's working\n",
    "\n",
    "    # if not, what do we do?\n",
    "\n",
    "        # print a message showing that it ain't work\n",
    "        # set the coordinates to the eastern atlantic (0, 0)\n",
    "\n",
    "    \n",
    "    # pause for 2 seconds\n",
    "\n",
    "\n",
    "    # return the coordinates\n"
   ]
  },
  {
   "cell_type": "markdown",
   "metadata": {},
   "source": [
    "### 6.  this function to each row in the dataframe\n",
    "\n",
    "... using the [`apply()`](https://pandas.pydata.org/pandas-docs/stable/generated/pandas.DataFrame.apply.html) method, specifying `axis=1` to tell pandas that we want to apply this function to each _row_ of data."
   ]
  },
  {
   "cell_type": "code",
   "execution_count": null,
   "metadata": {},
   "outputs": [],
   "source": [
    "# print a message letting us know what we're up to at the outset\n",
    "\n",
    "\n",
    "# apply the function across the data into a new column\n"
   ]
  },
  {
   "cell_type": "code",
   "execution_count": null,
   "metadata": {},
   "outputs": [],
   "source": [
    "# check the output with `head()`\n"
   ]
  },
  {
   "cell_type": "code",
   "execution_count": null,
   "metadata": {},
   "outputs": [],
   "source": []
  }
 ],
 "metadata": {
  "kernelspec": {
   "display_name": "Python 3",
   "language": "python",
   "name": "python3"
  },
  "language_info": {
   "codemirror_mode": {
    "name": "ipython",
    "version": 3
   },
   "file_extension": ".py",
   "mimetype": "text/x-python",
   "name": "python",
   "nbconvert_exporter": "python",
   "pygments_lexer": "ipython3",
   "version": "3.6.4"
  }
 },
 "nbformat": 4,
 "nbformat_minor": 2
}
