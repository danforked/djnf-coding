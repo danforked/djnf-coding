{
 "cells": [
  {
   "cell_type": "markdown",
   "metadata": {},
   "source": [
    "# GIS analysis with geopandas - CO weed sales\n",
    "\n",
    "Let's take a look at one year of [county-level cannabis sales data in Colorado](https://www.colorado.gov/pacific/revenue/colorado-marijuana-sales-reports).\n",
    "\n",
    "**Our goal**: To map per-capita weed sales by county in 2017.\n",
    "\n",
    "**Our data**: A CSV lives here: `../../data/colo-county-cannabis-sales-2017.csv`.\n",
    "\n",
    "A few things to note about this data:\n",
    "- Every row in our data is the sum of one month of sales for one category (\"retail\" or \"medical\") for one county\n",
    "- Not every county in Colorado has retail pot shops\n",
    "- To maintain taxpayer privacy, the state releases aggregate sales data _only_ for counties with at least three dispensaries, and then only if none represent more than 80 percent of total sales, according to the Colorado Department of Revenue. Totals for counties that don't meet these criteria are represented in the data as 'NR'\n",
    "\n",
    "Other data we will use as we explore this topic:\n",
    "- `../../data/colo-county-pop.csv`: A CSV with Colorado county [FIPS](https://en.wikipedia.org/wiki/Federal_Information_Processing_Standards) codes, county names and 2016 population estimates.\n",
    "- `../../data/co-counties.shp`: A Census Bureau [shapefile](https://en.wikipedia.org/wiki/Shapefile) of Colorado counties."
   ]
  },
  {
   "cell_type": "markdown",
   "metadata": {},
   "source": [
    "### Import dependencies\n",
    "\n",
    "We'll need pandas and geopandas.\n",
    "\n",
    "We'll also set up a [\"magic function\"](https://stackoverflow.com/a/43028034) to plot our map inline."
   ]
  },
  {
   "cell_type": "code",
   "execution_count": 1,
   "metadata": {},
   "outputs": [],
   "source": [
    "import pandas as pd\n",
    "import geopandas as gpd\n",
    "\n",
    "%matplotlib inline"
   ]
  },
  {
   "cell_type": "markdown",
   "metadata": {},
   "source": [
    "### Read in the weed data\n",
    "\n",
    "When we read in the data, we're going to pass two additional arguments to the pandas `read_csv()` method:\n",
    "- `dtype={'county_code': str}`, which specifies that the `county_code` column should be parsed as a string, not a number -- that way, we won't drop leading zeroes on the FIPS codes\n",
    "- `na_values='NR'`, which specifies that `NR` should be interpreted as a null value in our data\n",
    "\n",
    "Read more about arguments you can pass to the `read_csv()` method [here](https://pandas.pydata.org/pandas-docs/stable/generated/pandas.read_csv.html)."
   ]
  },
  {
   "cell_type": "code",
   "execution_count": 2,
   "metadata": {},
   "outputs": [],
   "source": [
    "weed_df = pd.read_csv('../../data/colo-county-cannabis-sales-2017.csv',\n",
    "                      dtype={'county_code': str},\n",
    "                      na_values='NR')"
   ]
  },
  {
   "cell_type": "code",
   "execution_count": 3,
   "metadata": {},
   "outputs": [
    {
     "data": {
      "text/html": [
       "<div>\n",
       "<style scoped>\n",
       "    .dataframe tbody tr th:only-of-type {\n",
       "        vertical-align: middle;\n",
       "    }\n",
       "\n",
       "    .dataframe tbody tr th {\n",
       "        vertical-align: top;\n",
       "    }\n",
       "\n",
       "    .dataframe thead th {\n",
       "        text-align: right;\n",
       "    }\n",
       "</style>\n",
       "<table border=\"1\" class=\"dataframe\">\n",
       "  <thead>\n",
       "    <tr style=\"text-align: right;\">\n",
       "      <th></th>\n",
       "      <th>month</th>\n",
       "      <th>year</th>\n",
       "      <th>county_code</th>\n",
       "      <th>type</th>\n",
       "      <th>amount</th>\n",
       "    </tr>\n",
       "  </thead>\n",
       "  <tbody>\n",
       "    <tr>\n",
       "      <th>0</th>\n",
       "      <td>1</td>\n",
       "      <td>2017</td>\n",
       "      <td>08001</td>\n",
       "      <td>medical</td>\n",
       "      <td>520138.0</td>\n",
       "    </tr>\n",
       "    <tr>\n",
       "      <th>1</th>\n",
       "      <td>1</td>\n",
       "      <td>2017</td>\n",
       "      <td>08003</td>\n",
       "      <td>medical</td>\n",
       "      <td>NaN</td>\n",
       "    </tr>\n",
       "    <tr>\n",
       "      <th>2</th>\n",
       "      <td>1</td>\n",
       "      <td>2017</td>\n",
       "      <td>08005</td>\n",
       "      <td>medical</td>\n",
       "      <td>1137598.0</td>\n",
       "    </tr>\n",
       "    <tr>\n",
       "      <th>3</th>\n",
       "      <td>1</td>\n",
       "      <td>2017</td>\n",
       "      <td>08007</td>\n",
       "      <td>medical</td>\n",
       "      <td>NaN</td>\n",
       "    </tr>\n",
       "    <tr>\n",
       "      <th>4</th>\n",
       "      <td>1</td>\n",
       "      <td>2017</td>\n",
       "      <td>08013</td>\n",
       "      <td>medical</td>\n",
       "      <td>1943678.0</td>\n",
       "    </tr>\n",
       "  </tbody>\n",
       "</table>\n",
       "</div>"
      ],
      "text/plain": [
       "   month  year county_code     type     amount\n",
       "0      1  2017       08001  medical   520138.0\n",
       "1      1  2017       08003  medical        NaN\n",
       "2      1  2017       08005  medical  1137598.0\n",
       "3      1  2017       08007  medical        NaN\n",
       "4      1  2017       08013  medical  1943678.0"
      ]
     },
     "execution_count": 3,
     "metadata": {},
     "output_type": "execute_result"
    }
   ],
   "source": [
    "weed_df.head()"
   ]
  },
  {
   "cell_type": "markdown",
   "metadata": {},
   "source": [
    "### Read in the county data\n",
    "\n",
    "Again, we're going to use the `dtype` argument to make sure that the `fips` column comes in as a string."
   ]
  },
  {
   "cell_type": "code",
   "execution_count": 4,
   "metadata": {},
   "outputs": [],
   "source": [
    "county_df = pd.read_csv('../../data/colo-county-pop.csv', dtype={'fips': str})"
   ]
  },
  {
   "cell_type": "code",
   "execution_count": 5,
   "metadata": {},
   "outputs": [
    {
     "data": {
      "text/html": [
       "<div>\n",
       "<style scoped>\n",
       "    .dataframe tbody tr th:only-of-type {\n",
       "        vertical-align: middle;\n",
       "    }\n",
       "\n",
       "    .dataframe tbody tr th {\n",
       "        vertical-align: top;\n",
       "    }\n",
       "\n",
       "    .dataframe thead th {\n",
       "        text-align: right;\n",
       "    }\n",
       "</style>\n",
       "<table border=\"1\" class=\"dataframe\">\n",
       "  <thead>\n",
       "    <tr style=\"text-align: right;\">\n",
       "      <th></th>\n",
       "      <th>fips</th>\n",
       "      <th>county_name</th>\n",
       "      <th>pop_2016</th>\n",
       "    </tr>\n",
       "  </thead>\n",
       "  <tbody>\n",
       "    <tr>\n",
       "      <th>0</th>\n",
       "      <td>08001</td>\n",
       "      <td>Adams</td>\n",
       "      <td>498187</td>\n",
       "    </tr>\n",
       "    <tr>\n",
       "      <th>1</th>\n",
       "      <td>08003</td>\n",
       "      <td>Alamosa</td>\n",
       "      <td>16654</td>\n",
       "    </tr>\n",
       "    <tr>\n",
       "      <th>2</th>\n",
       "      <td>08005</td>\n",
       "      <td>Arapahoe</td>\n",
       "      <td>637068</td>\n",
       "    </tr>\n",
       "    <tr>\n",
       "      <th>3</th>\n",
       "      <td>08007</td>\n",
       "      <td>Archuleta</td>\n",
       "      <td>12854</td>\n",
       "    </tr>\n",
       "    <tr>\n",
       "      <th>4</th>\n",
       "      <td>08009</td>\n",
       "      <td>Baca</td>\n",
       "      <td>3568</td>\n",
       "    </tr>\n",
       "  </tbody>\n",
       "</table>\n",
       "</div>"
      ],
      "text/plain": [
       "    fips county_name  pop_2016\n",
       "0  08001       Adams    498187\n",
       "1  08003     Alamosa     16654\n",
       "2  08005    Arapahoe    637068\n",
       "3  08007   Archuleta     12854\n",
       "4  08009        Baca      3568"
      ]
     },
     "execution_count": 5,
     "metadata": {},
     "output_type": "execute_result"
    }
   ],
   "source": [
    "county_df.head()"
   ]
  },
  {
   "cell_type": "markdown",
   "metadata": {},
   "source": [
    "### Filter for retail sales\n",
    "\n",
    "First, use `unique()` to see what values are in that column. Then filter for the one we want."
   ]
  },
  {
   "cell_type": "code",
   "execution_count": 6,
   "metadata": {},
   "outputs": [
    {
     "data": {
      "text/plain": [
       "array(['medical', 'retail'], dtype=object)"
      ]
     },
     "execution_count": 6,
     "metadata": {},
     "output_type": "execute_result"
    }
   ],
   "source": [
    "weed_df.type.unique()"
   ]
  },
  {
   "cell_type": "code",
   "execution_count": 7,
   "metadata": {},
   "outputs": [],
   "source": [
    "retail = weed_df[weed_df['type'] == 'retail']"
   ]
  },
  {
   "cell_type": "code",
   "execution_count": 8,
   "metadata": {},
   "outputs": [
    {
     "data": {
      "text/html": [
       "<div>\n",
       "<style scoped>\n",
       "    .dataframe tbody tr th:only-of-type {\n",
       "        vertical-align: middle;\n",
       "    }\n",
       "\n",
       "    .dataframe tbody tr th {\n",
       "        vertical-align: top;\n",
       "    }\n",
       "\n",
       "    .dataframe thead th {\n",
       "        text-align: right;\n",
       "    }\n",
       "</style>\n",
       "<table border=\"1\" class=\"dataframe\">\n",
       "  <thead>\n",
       "    <tr style=\"text-align: right;\">\n",
       "      <th></th>\n",
       "      <th>month</th>\n",
       "      <th>year</th>\n",
       "      <th>county_code</th>\n",
       "      <th>type</th>\n",
       "      <th>amount</th>\n",
       "    </tr>\n",
       "  </thead>\n",
       "  <tbody>\n",
       "    <tr>\n",
       "      <th>36</th>\n",
       "      <td>1</td>\n",
       "      <td>2017</td>\n",
       "      <td>08001</td>\n",
       "      <td>retail</td>\n",
       "      <td>4192709.0</td>\n",
       "    </tr>\n",
       "    <tr>\n",
       "      <th>37</th>\n",
       "      <td>1</td>\n",
       "      <td>2017</td>\n",
       "      <td>08005</td>\n",
       "      <td>retail</td>\n",
       "      <td>8481055.0</td>\n",
       "    </tr>\n",
       "    <tr>\n",
       "      <th>38</th>\n",
       "      <td>1</td>\n",
       "      <td>2017</td>\n",
       "      <td>08007</td>\n",
       "      <td>retail</td>\n",
       "      <td>NaN</td>\n",
       "    </tr>\n",
       "    <tr>\n",
       "      <th>39</th>\n",
       "      <td>1</td>\n",
       "      <td>2017</td>\n",
       "      <td>08013</td>\n",
       "      <td>retail</td>\n",
       "      <td>5351831.0</td>\n",
       "    </tr>\n",
       "    <tr>\n",
       "      <th>40</th>\n",
       "      <td>1</td>\n",
       "      <td>2017</td>\n",
       "      <td>08015</td>\n",
       "      <td>retail</td>\n",
       "      <td>316009.0</td>\n",
       "    </tr>\n",
       "  </tbody>\n",
       "</table>\n",
       "</div>"
      ],
      "text/plain": [
       "    month  year county_code    type     amount\n",
       "36      1  2017       08001  retail  4192709.0\n",
       "37      1  2017       08005  retail  8481055.0\n",
       "38      1  2017       08007  retail        NaN\n",
       "39      1  2017       08013  retail  5351831.0\n",
       "40      1  2017       08015  retail   316009.0"
      ]
     },
     "execution_count": 8,
     "metadata": {},
     "output_type": "execute_result"
    }
   ],
   "source": [
    "retail.head()"
   ]
  },
  {
   "cell_type": "markdown",
   "metadata": {},
   "source": [
    "### Group weed data by county for annual total\n",
    "\n",
    "Every row in our data is one month of sales data -- we want to get the annual total. So we'll use the `groupby()` and `sum()` methods to calculate that.\n",
    "\n",
    "A `groupby` object isn't _quite_ what we'll need to join this data with our other dataframes, though, so we'll also [reset the index](https://pandas.pydata.org/pandas-docs/stable/generated/pandas.DataFrame.reset_index.html) to get back to a basic DataFrame that we can work with."
   ]
  },
  {
   "cell_type": "code",
   "execution_count": 9,
   "metadata": {},
   "outputs": [],
   "source": [
    "grouped = retail[['county_code', 'amount']].groupby('county_code') \\\n",
    "                                           .sum() \\\n",
    "                                           .reset_index()"
   ]
  },
  {
   "cell_type": "code",
   "execution_count": 10,
   "metadata": {},
   "outputs": [
    {
     "data": {
      "text/html": [
       "<div>\n",
       "<style scoped>\n",
       "    .dataframe tbody tr th:only-of-type {\n",
       "        vertical-align: middle;\n",
       "    }\n",
       "\n",
       "    .dataframe tbody tr th {\n",
       "        vertical-align: top;\n",
       "    }\n",
       "\n",
       "    .dataframe thead th {\n",
       "        text-align: right;\n",
       "    }\n",
       "</style>\n",
       "<table border=\"1\" class=\"dataframe\">\n",
       "  <thead>\n",
       "    <tr style=\"text-align: right;\">\n",
       "      <th></th>\n",
       "      <th>county_code</th>\n",
       "      <th>amount</th>\n",
       "    </tr>\n",
       "  </thead>\n",
       "  <tbody>\n",
       "    <tr>\n",
       "      <th>0</th>\n",
       "      <td>08001</td>\n",
       "      <td>62132216.0</td>\n",
       "    </tr>\n",
       "    <tr>\n",
       "      <th>1</th>\n",
       "      <td>08005</td>\n",
       "      <td>111836427.0</td>\n",
       "    </tr>\n",
       "    <tr>\n",
       "      <th>2</th>\n",
       "      <td>08007</td>\n",
       "      <td>6397396.0</td>\n",
       "    </tr>\n",
       "    <tr>\n",
       "      <th>3</th>\n",
       "      <td>08013</td>\n",
       "      <td>77438466.0</td>\n",
       "    </tr>\n",
       "    <tr>\n",
       "      <th>4</th>\n",
       "      <td>08015</td>\n",
       "      <td>5422335.0</td>\n",
       "    </tr>\n",
       "  </tbody>\n",
       "</table>\n",
       "</div>"
      ],
      "text/plain": [
       "  county_code       amount\n",
       "0       08001   62132216.0\n",
       "1       08005  111836427.0\n",
       "2       08007    6397396.0\n",
       "3       08013   77438466.0\n",
       "4       08015    5422335.0"
      ]
     },
     "execution_count": 10,
     "metadata": {},
     "output_type": "execute_result"
    }
   ],
   "source": [
    "grouped.head()"
   ]
  },
  {
   "cell_type": "markdown",
   "metadata": {},
   "source": [
    "### Join the grouped weed data with the county data\n",
    "\n",
    "Now we'll smash together the weed data and the county data, and to do that, we're going to use the pandas [`merge()`](https://pandas.pydata.org/pandas-docs/stable/generated/pandas.DataFrame.merge.html) method. We'll pass it four arguments:\n",
    "- `grouped`, the \"left\" dataframe we're joining\n",
    "- `county_df`, the \"right\" dataframe we're joining\n",
    "- `left_on='county_code'`, which tells us which column in the _left_ dataframe to join on\n",
    "- `right_on='fips'`, which tells us which column in the _right_ dataframe to join on"
   ]
  },
  {
   "cell_type": "code",
   "execution_count": 11,
   "metadata": {},
   "outputs": [],
   "source": [
    "joined = pd.merge(grouped, county_df, left_on='county_code', right_on='fips')"
   ]
  },
  {
   "cell_type": "code",
   "execution_count": 12,
   "metadata": {},
   "outputs": [
    {
     "data": {
      "text/html": [
       "<div>\n",
       "<style scoped>\n",
       "    .dataframe tbody tr th:only-of-type {\n",
       "        vertical-align: middle;\n",
       "    }\n",
       "\n",
       "    .dataframe tbody tr th {\n",
       "        vertical-align: top;\n",
       "    }\n",
       "\n",
       "    .dataframe thead th {\n",
       "        text-align: right;\n",
       "    }\n",
       "</style>\n",
       "<table border=\"1\" class=\"dataframe\">\n",
       "  <thead>\n",
       "    <tr style=\"text-align: right;\">\n",
       "      <th></th>\n",
       "      <th>county_code</th>\n",
       "      <th>amount</th>\n",
       "      <th>fips</th>\n",
       "      <th>county_name</th>\n",
       "      <th>pop_2016</th>\n",
       "    </tr>\n",
       "  </thead>\n",
       "  <tbody>\n",
       "    <tr>\n",
       "      <th>0</th>\n",
       "      <td>08001</td>\n",
       "      <td>62132216.0</td>\n",
       "      <td>08001</td>\n",
       "      <td>Adams</td>\n",
       "      <td>498187</td>\n",
       "    </tr>\n",
       "    <tr>\n",
       "      <th>1</th>\n",
       "      <td>08005</td>\n",
       "      <td>111836427.0</td>\n",
       "      <td>08005</td>\n",
       "      <td>Arapahoe</td>\n",
       "      <td>637068</td>\n",
       "    </tr>\n",
       "    <tr>\n",
       "      <th>2</th>\n",
       "      <td>08007</td>\n",
       "      <td>6397396.0</td>\n",
       "      <td>08007</td>\n",
       "      <td>Archuleta</td>\n",
       "      <td>12854</td>\n",
       "    </tr>\n",
       "    <tr>\n",
       "      <th>3</th>\n",
       "      <td>08013</td>\n",
       "      <td>77438466.0</td>\n",
       "      <td>08013</td>\n",
       "      <td>Boulder</td>\n",
       "      <td>322226</td>\n",
       "    </tr>\n",
       "    <tr>\n",
       "      <th>4</th>\n",
       "      <td>08015</td>\n",
       "      <td>5422335.0</td>\n",
       "      <td>08015</td>\n",
       "      <td>Chaffee</td>\n",
       "      <td>19058</td>\n",
       "    </tr>\n",
       "  </tbody>\n",
       "</table>\n",
       "</div>"
      ],
      "text/plain": [
       "  county_code       amount   fips county_name  pop_2016\n",
       "0       08001   62132216.0  08001       Adams    498187\n",
       "1       08005  111836427.0  08005    Arapahoe    637068\n",
       "2       08007    6397396.0  08007   Archuleta     12854\n",
       "3       08013   77438466.0  08013     Boulder    322226\n",
       "4       08015    5422335.0  08015     Chaffee     19058"
      ]
     },
     "execution_count": 12,
     "metadata": {},
     "output_type": "execute_result"
    }
   ],
   "source": [
    "joined.head()"
   ]
  },
  {
   "cell_type": "markdown",
   "metadata": {},
   "source": [
    "### Calculate per-capita weed sales\n",
    "\n",
    "The math is pretty simple -- divide the amount into the population -- so adding a calculated column is also pretty simple.\n",
    "\n",
    "Then we'll sort by our new column to see which county rises to the top."
   ]
  },
  {
   "cell_type": "code",
   "execution_count": 13,
   "metadata": {},
   "outputs": [],
   "source": [
    "joined['per_capita'] = joined['amount'] / joined['pop_2016']"
   ]
  },
  {
   "cell_type": "code",
   "execution_count": 14,
   "metadata": {},
   "outputs": [
    {
     "data": {
      "text/html": [
       "<div>\n",
       "<style scoped>\n",
       "    .dataframe tbody tr th:only-of-type {\n",
       "        vertical-align: middle;\n",
       "    }\n",
       "\n",
       "    .dataframe tbody tr th {\n",
       "        vertical-align: top;\n",
       "    }\n",
       "\n",
       "    .dataframe thead th {\n",
       "        text-align: right;\n",
       "    }\n",
       "</style>\n",
       "<table border=\"1\" class=\"dataframe\">\n",
       "  <thead>\n",
       "    <tr style=\"text-align: right;\">\n",
       "      <th></th>\n",
       "      <th>county_code</th>\n",
       "      <th>amount</th>\n",
       "      <th>fips</th>\n",
       "      <th>county_name</th>\n",
       "      <th>pop_2016</th>\n",
       "      <th>per_capita</th>\n",
       "    </tr>\n",
       "  </thead>\n",
       "  <tbody>\n",
       "    <tr>\n",
       "      <th>20</th>\n",
       "      <td>08071</td>\n",
       "      <td>43913648.0</td>\n",
       "      <td>08071</td>\n",
       "      <td>Las Animas</td>\n",
       "      <td>14103</td>\n",
       "      <td>3113.780614</td>\n",
       "    </tr>\n",
       "    <tr>\n",
       "      <th>7</th>\n",
       "      <td>08023</td>\n",
       "      <td>3874954.0</td>\n",
       "      <td>08023</td>\n",
       "      <td>Costilla</td>\n",
       "      <td>3721</td>\n",
       "      <td>1041.374362</td>\n",
       "    </tr>\n",
       "    <tr>\n",
       "      <th>24</th>\n",
       "      <td>08091</td>\n",
       "      <td>3916922.0</td>\n",
       "      <td>08091</td>\n",
       "      <td>Ouray</td>\n",
       "      <td>4857</td>\n",
       "      <td>806.448837</td>\n",
       "    </tr>\n",
       "    <tr>\n",
       "      <th>33</th>\n",
       "      <td>08117</td>\n",
       "      <td>22904938.0</td>\n",
       "      <td>08117</td>\n",
       "      <td>Summit</td>\n",
       "      <td>30374</td>\n",
       "      <td>754.096859</td>\n",
       "    </tr>\n",
       "    <tr>\n",
       "      <th>22</th>\n",
       "      <td>08083</td>\n",
       "      <td>20163593.0</td>\n",
       "      <td>08083</td>\n",
       "      <td>Montezuma</td>\n",
       "      <td>26999</td>\n",
       "      <td>746.827401</td>\n",
       "    </tr>\n",
       "  </tbody>\n",
       "</table>\n",
       "</div>"
      ],
      "text/plain": [
       "   county_code      amount   fips county_name  pop_2016   per_capita\n",
       "20       08071  43913648.0  08071  Las Animas     14103  3113.780614\n",
       "7        08023   3874954.0  08023    Costilla      3721  1041.374362\n",
       "24       08091   3916922.0  08091       Ouray      4857   806.448837\n",
       "33       08117  22904938.0  08117      Summit     30374   754.096859\n",
       "22       08083  20163593.0  08083   Montezuma     26999   746.827401"
      ]
     },
     "execution_count": 14,
     "metadata": {},
     "output_type": "execute_result"
    }
   ],
   "source": [
    "joined.sort_values('per_capita', ascending=False).head()"
   ]
  },
  {
   "cell_type": "markdown",
   "metadata": {},
   "source": [
    "### Let's start prepping that map\n",
    "\n",
    "A table is cool and all, but sometimes patterns emerge from looking at a visualization. Let's plot our data as a [choropleth map](https://en.wikipedia.org/wiki/Choropleth_map).\n",
    "\n",
    "First, let's just grab the data that we need."
   ]
  },
  {
   "cell_type": "code",
   "execution_count": 15,
   "metadata": {},
   "outputs": [],
   "source": [
    "data_to_map = joined[['county_code', 'county_name', 'per_capita']]"
   ]
  },
  {
   "cell_type": "markdown",
   "metadata": {},
   "source": [
    "### Read in the shapefile data\n",
    "\n",
    "The geopandas [`read_file()`](http://geopandas.org/io.html#reading-spatial-data) method is our horse."
   ]
  },
  {
   "cell_type": "code",
   "execution_count": 16,
   "metadata": {},
   "outputs": [],
   "source": [
    "county_gis = gpd.read_file('../../data/co-counties.shp')"
   ]
  },
  {
   "cell_type": "code",
   "execution_count": 17,
   "metadata": {},
   "outputs": [
    {
     "data": {
      "text/html": [
       "<div>\n",
       "<style scoped>\n",
       "    .dataframe tbody tr th:only-of-type {\n",
       "        vertical-align: middle;\n",
       "    }\n",
       "\n",
       "    .dataframe tbody tr th {\n",
       "        vertical-align: top;\n",
       "    }\n",
       "\n",
       "    .dataframe thead th {\n",
       "        text-align: right;\n",
       "    }\n",
       "</style>\n",
       "<table border=\"1\" class=\"dataframe\">\n",
       "  <thead>\n",
       "    <tr style=\"text-align: right;\">\n",
       "      <th></th>\n",
       "      <th>STATEFP10</th>\n",
       "      <th>COUNTYFP10</th>\n",
       "      <th>COUNTYNS10</th>\n",
       "      <th>GEOID10</th>\n",
       "      <th>NAME10</th>\n",
       "      <th>NAMELSAD10</th>\n",
       "      <th>LSAD10</th>\n",
       "      <th>CLASSFP10</th>\n",
       "      <th>MTFCC10</th>\n",
       "      <th>CSAFP10</th>\n",
       "      <th>CBSAFP10</th>\n",
       "      <th>METDIVFP10</th>\n",
       "      <th>FUNCSTAT10</th>\n",
       "      <th>ALAND10</th>\n",
       "      <th>AWATER10</th>\n",
       "      <th>INTPTLAT10</th>\n",
       "      <th>INTPTLON10</th>\n",
       "      <th>geometry</th>\n",
       "    </tr>\n",
       "  </thead>\n",
       "  <tbody>\n",
       "    <tr>\n",
       "      <th>0</th>\n",
       "      <td>08</td>\n",
       "      <td>069</td>\n",
       "      <td>00198150</td>\n",
       "      <td>08069</td>\n",
       "      <td>Larimer</td>\n",
       "      <td>Larimer County</td>\n",
       "      <td>06</td>\n",
       "      <td>H1</td>\n",
       "      <td>G4020</td>\n",
       "      <td></td>\n",
       "      <td>22660</td>\n",
       "      <td></td>\n",
       "      <td>A</td>\n",
       "      <td>6723613486</td>\n",
       "      <td>98295250</td>\n",
       "      <td>+40.6630912</td>\n",
       "      <td>-105.4821309</td>\n",
       "      <td>POLYGON ((-105.05672 40.349281, -105.056699 40...</td>\n",
       "    </tr>\n",
       "    <tr>\n",
       "      <th>1</th>\n",
       "      <td>08</td>\n",
       "      <td>071</td>\n",
       "      <td>00198151</td>\n",
       "      <td>08071</td>\n",
       "      <td>Las Animas</td>\n",
       "      <td>Las Animas County</td>\n",
       "      <td>06</td>\n",
       "      <td>H1</td>\n",
       "      <td>G4020</td>\n",
       "      <td></td>\n",
       "      <td></td>\n",
       "      <td></td>\n",
       "      <td>A</td>\n",
       "      <td>12361162110</td>\n",
       "      <td>6929979</td>\n",
       "      <td>+37.3188308</td>\n",
       "      <td>-104.0441103</td>\n",
       "      <td>POLYGON ((-104.143179 37.75833, -104.126149 37...</td>\n",
       "    </tr>\n",
       "    <tr>\n",
       "      <th>2</th>\n",
       "      <td>08</td>\n",
       "      <td>043</td>\n",
       "      <td>00198137</td>\n",
       "      <td>08043</td>\n",
       "      <td>Fremont</td>\n",
       "      <td>Fremont County</td>\n",
       "      <td>06</td>\n",
       "      <td>H1</td>\n",
       "      <td>G4020</td>\n",
       "      <td></td>\n",
       "      <td>15860</td>\n",
       "      <td></td>\n",
       "      <td>A</td>\n",
       "      <td>3970627343</td>\n",
       "      <td>2235395</td>\n",
       "      <td>+38.4556576</td>\n",
       "      <td>-105.4214383</td>\n",
       "      <td>POLYGON ((-105.368889 38.25939899999999, -105....</td>\n",
       "    </tr>\n",
       "    <tr>\n",
       "      <th>3</th>\n",
       "      <td>08</td>\n",
       "      <td>051</td>\n",
       "      <td>00198141</td>\n",
       "      <td>08051</td>\n",
       "      <td>Gunnison</td>\n",
       "      <td>Gunnison County</td>\n",
       "      <td>06</td>\n",
       "      <td>H1</td>\n",
       "      <td>G4020</td>\n",
       "      <td></td>\n",
       "      <td></td>\n",
       "      <td></td>\n",
       "      <td>A</td>\n",
       "      <td>8389228965</td>\n",
       "      <td>53172021</td>\n",
       "      <td>+38.6696792</td>\n",
       "      <td>-107.0781080</td>\n",
       "      <td>POLYGON ((-106.799689 38.97965, -106.800086 38...</td>\n",
       "    </tr>\n",
       "    <tr>\n",
       "      <th>4</th>\n",
       "      <td>08</td>\n",
       "      <td>021</td>\n",
       "      <td>00198126</td>\n",
       "      <td>08021</td>\n",
       "      <td>Conejos</td>\n",
       "      <td>Conejos County</td>\n",
       "      <td>06</td>\n",
       "      <td>H1</td>\n",
       "      <td>G4020</td>\n",
       "      <td></td>\n",
       "      <td></td>\n",
       "      <td></td>\n",
       "      <td>A</td>\n",
       "      <td>3334326097</td>\n",
       "      <td>9235297</td>\n",
       "      <td>+37.2134065</td>\n",
       "      <td>-106.1764473</td>\n",
       "      <td>POLYGON ((-106.148866 37.4011, -106.147532 37....</td>\n",
       "    </tr>\n",
       "  </tbody>\n",
       "</table>\n",
       "</div>"
      ],
      "text/plain": [
       "  STATEFP10 COUNTYFP10 COUNTYNS10 GEOID10      NAME10         NAMELSAD10  \\\n",
       "0        08        069   00198150   08069     Larimer     Larimer County   \n",
       "1        08        071   00198151   08071  Las Animas  Las Animas County   \n",
       "2        08        043   00198137   08043     Fremont     Fremont County   \n",
       "3        08        051   00198141   08051    Gunnison    Gunnison County   \n",
       "4        08        021   00198126   08021     Conejos     Conejos County   \n",
       "\n",
       "  LSAD10 CLASSFP10 MTFCC10 CSAFP10 CBSAFP10 METDIVFP10 FUNCSTAT10  \\\n",
       "0     06        H1   G4020            22660                     A   \n",
       "1     06        H1   G4020                                      A   \n",
       "2     06        H1   G4020            15860                     A   \n",
       "3     06        H1   G4020                                      A   \n",
       "4     06        H1   G4020                                      A   \n",
       "\n",
       "       ALAND10  AWATER10   INTPTLAT10    INTPTLON10  \\\n",
       "0   6723613486  98295250  +40.6630912  -105.4821309   \n",
       "1  12361162110   6929979  +37.3188308  -104.0441103   \n",
       "2   3970627343   2235395  +38.4556576  -105.4214383   \n",
       "3   8389228965  53172021  +38.6696792  -107.0781080   \n",
       "4   3334326097   9235297  +37.2134065  -106.1764473   \n",
       "\n",
       "                                            geometry  \n",
       "0  POLYGON ((-105.05672 40.349281, -105.056699 40...  \n",
       "1  POLYGON ((-104.143179 37.75833, -104.126149 37...  \n",
       "2  POLYGON ((-105.368889 38.25939899999999, -105....  \n",
       "3  POLYGON ((-106.799689 38.97965, -106.800086 38...  \n",
       "4  POLYGON ((-106.148866 37.4011, -106.147532 37....  "
      ]
     },
     "execution_count": 17,
     "metadata": {},
     "output_type": "execute_result"
    }
   ],
   "source": [
    "county_gis.head()"
   ]
  },
  {
   "cell_type": "markdown",
   "metadata": {},
   "source": [
    "### Merge the GIS file with our grouped dataframe\n",
    "\n",
    "We're going to use `merge()` again. This time, though, we're going to hand it _five_ arguments:\n",
    "- `county_gis[['GEOID10', 'NAME10', 'geometry']]`, the \"left\" dataframe to join, in this case a slimmed-down version of the shapefile we just read in\n",
    "- `data_to_map`, the \"right\" dataframe to join\n",
    "- `how='left'`, which specifies what _kind_ of join we're doing -- in this case, we want to keep all of the counties in our geodataframe (on the left), even if they don't have any associated data, and the [default](https://pandas.pydata.org/pandas-docs/stable/generated/pandas.DataFrame.merge.html) for this argument is \"inner\"\n",
    "- `left_on='GEOID10'`, which specifies the column name in the \"left\" dataframe to join on\n",
    "- `right_on='county_code'`, which specifies the column name in the \"right\" dataframe to join on"
   ]
  },
  {
   "cell_type": "code",
   "execution_count": 18,
   "metadata": {},
   "outputs": [],
   "source": [
    "map_with_data = pd.merge(county_gis[['GEOID10', 'NAME10', 'geometry']],\n",
    "                         data_to_map,\n",
    "                         how='left',\n",
    "                         left_on='GEOID10',\n",
    "                         right_on='county_code')"
   ]
  },
  {
   "cell_type": "code",
   "execution_count": 19,
   "metadata": {},
   "outputs": [
    {
     "data": {
      "text/html": [
       "<div>\n",
       "<style scoped>\n",
       "    .dataframe tbody tr th:only-of-type {\n",
       "        vertical-align: middle;\n",
       "    }\n",
       "\n",
       "    .dataframe tbody tr th {\n",
       "        vertical-align: top;\n",
       "    }\n",
       "\n",
       "    .dataframe thead th {\n",
       "        text-align: right;\n",
       "    }\n",
       "</style>\n",
       "<table border=\"1\" class=\"dataframe\">\n",
       "  <thead>\n",
       "    <tr style=\"text-align: right;\">\n",
       "      <th></th>\n",
       "      <th>GEOID10</th>\n",
       "      <th>NAME10</th>\n",
       "      <th>geometry</th>\n",
       "      <th>county_code</th>\n",
       "      <th>county_name</th>\n",
       "      <th>per_capita</th>\n",
       "    </tr>\n",
       "  </thead>\n",
       "  <tbody>\n",
       "    <tr>\n",
       "      <th>0</th>\n",
       "      <td>08069</td>\n",
       "      <td>Larimer</td>\n",
       "      <td>POLYGON ((-105.05672 40.349281, -105.056699 40...</td>\n",
       "      <td>08069</td>\n",
       "      <td>Larimer</td>\n",
       "      <td>171.744480</td>\n",
       "    </tr>\n",
       "    <tr>\n",
       "      <th>1</th>\n",
       "      <td>08071</td>\n",
       "      <td>Las Animas</td>\n",
       "      <td>POLYGON ((-104.143179 37.75833, -104.126149 37...</td>\n",
       "      <td>08071</td>\n",
       "      <td>Las Animas</td>\n",
       "      <td>3113.780614</td>\n",
       "    </tr>\n",
       "    <tr>\n",
       "      <th>2</th>\n",
       "      <td>08043</td>\n",
       "      <td>Fremont</td>\n",
       "      <td>POLYGON ((-105.368889 38.25939899999999, -105....</td>\n",
       "      <td>NaN</td>\n",
       "      <td>NaN</td>\n",
       "      <td>NaN</td>\n",
       "    </tr>\n",
       "    <tr>\n",
       "      <th>3</th>\n",
       "      <td>08051</td>\n",
       "      <td>Gunnison</td>\n",
       "      <td>POLYGON ((-106.799689 38.97965, -106.800086 38...</td>\n",
       "      <td>08051</td>\n",
       "      <td>Gunnison</td>\n",
       "      <td>419.347087</td>\n",
       "    </tr>\n",
       "    <tr>\n",
       "      <th>4</th>\n",
       "      <td>08021</td>\n",
       "      <td>Conejos</td>\n",
       "      <td>POLYGON ((-106.148866 37.4011, -106.147532 37....</td>\n",
       "      <td>08021</td>\n",
       "      <td>Conejos</td>\n",
       "      <td>667.522204</td>\n",
       "    </tr>\n",
       "  </tbody>\n",
       "</table>\n",
       "</div>"
      ],
      "text/plain": [
       "  GEOID10      NAME10                                           geometry  \\\n",
       "0   08069     Larimer  POLYGON ((-105.05672 40.349281, -105.056699 40...   \n",
       "1   08071  Las Animas  POLYGON ((-104.143179 37.75833, -104.126149 37...   \n",
       "2   08043     Fremont  POLYGON ((-105.368889 38.25939899999999, -105....   \n",
       "3   08051    Gunnison  POLYGON ((-106.799689 38.97965, -106.800086 38...   \n",
       "4   08021     Conejos  POLYGON ((-106.148866 37.4011, -106.147532 37....   \n",
       "\n",
       "  county_code county_name   per_capita  \n",
       "0       08069     Larimer   171.744480  \n",
       "1       08071  Las Animas  3113.780614  \n",
       "2         NaN         NaN          NaN  \n",
       "3       08051    Gunnison   419.347087  \n",
       "4       08021     Conejos   667.522204  "
      ]
     },
     "execution_count": 19,
     "metadata": {},
     "output_type": "execute_result"
    }
   ],
   "source": [
    "map_with_data.head()"
   ]
  },
  {
   "cell_type": "markdown",
   "metadata": {},
   "source": [
    "### (Finally!) draw the map\n",
    "\n",
    "We're going to hand the [`plot()`](http://geopandas.org/mapping.html) method four arguments: \n",
    "- `column='per_capita'`, which [specifies](http://geopandas.org/mapping.html#choropleth-maps) the column of data to use to calculate the color of each county\n",
    "- `edgecolor='black'`, which specifies what color to outline the counties in\n",
    "- `cmap='YlGn'`, which specifies the [colormap](https://matplotlib.org/users/colormaps.html) to use\n",
    "- `figsize=(13,7)`, which sets the size of the output"
   ]
  },
  {
   "cell_type": "code",
   "execution_count": 26,
   "metadata": {},
   "outputs": [
    {
     "name": "stderr",
     "output_type": "stream",
     "text": [
      "/Users/codywinchester/.virtualenvs/2018-SykzLZ5x/lib/python3.6/site-packages/matplotlib/colors.py:504: RuntimeWarning: invalid value encountered in less\n",
      "  xa[xa < 0] = -1\n"
     ]
    },
    {
     "data": {
      "text/plain": [
       "<matplotlib.axes._subplots.AxesSubplot at 0x11a79cc18>"
      ]
     },
     "execution_count": 26,
     "metadata": {},
     "output_type": "execute_result"
    },
    {
     "data": {
      "image/png": "[encoded data removed]",
      "text/plain": [
       "<Figure size 936x504 with 1 Axes>"
      ]
     },
     "metadata": {},
     "output_type": "display_data"
    }
   ],
   "source": [
    "map_with_data.plot(column='per_capita',\n",
    "                   edgecolor='black',\n",
    "                   cmap='YlGn', \n",
    "                   figsize=(13,7))"
   ]
  },
  {
   "cell_type": "markdown",
   "metadata": {},
   "source": [
    "Spot the outlier ..."
   ]
  }
 ],
 "metadata": {
  "kernelspec": {
   "display_name": "Python 3",
   "language": "python",
   "name": "python3"
  },
  "language_info": {
   "codemirror_mode": {
    "name": "ipython",
    "version": 3
   },
   "file_extension": ".py",
   "mimetype": "text/x-python",
   "name": "python",
   "nbconvert_exporter": "python",
   "pygments_lexer": "ipython3",
   "version": "3.6.4"
  }
 },
 "nbformat": 4,
 "nbformat_minor": 2
}
