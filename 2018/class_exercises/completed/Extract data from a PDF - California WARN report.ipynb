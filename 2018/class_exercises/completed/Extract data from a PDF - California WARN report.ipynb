{
 "cells": [
  {
   "cell_type": "markdown",
   "metadata": {},
   "source": [
    "# Extract data from a PDF - California WARN report\n",
    "\n",
    "**Problem**: You have data trapped in a PDF.\n",
    "\n",
    "**Solution**: Use a Python library like [`pdfplumber`](https://github.com/jsvine/pdfplumber) to extract it.\n",
    "\n",
    "This PDF we're working with here is [a report of employers planning to lay off workers in California](http://www.edd.ca.gov/jobs_and_training/Layoff_Services_WARN.htm#ListingofWARNNotices).\n",
    "\n",
    "Our steps:\n",
    "1. Import dependencies\n",
    "2. Extract the data and write to a CSV (it's usually a good idea to cache your data)\n",
    "3. Load the CSV into a pandas dataframe\n",
    "4. Analyze!"
   ]
  },
  {
   "cell_type": "markdown",
   "metadata": {},
   "source": [
    "### 1. Import dependencies"
   ]
  },
  {
   "cell_type": "code",
   "execution_count": 2,
   "metadata": {},
   "outputs": [],
   "source": [
    "import csv\n",
    "\n",
    "import pdfplumber\n",
    "import pandas as pd"
   ]
  },
  {
   "cell_type": "markdown",
   "metadata": {},
   "source": [
    "We'll also look at the source PDF and define the column headers.\n",
    "\n",
    "While we're in here, let's define variables for the path to our PDF and to the CSV we'll write out to."
   ]
  },
  {
   "cell_type": "code",
   "execution_count": 3,
   "metadata": {},
   "outputs": [],
   "source": [
    "cols = ['notice_date', 'effective_date', 'received_date',\n",
    "        'company', 'city', 'county', 'employee_no', 'warn_type']\n",
    "\n",
    "# this one exists already\n",
    "PDF_FILE = '../../data/warnreport.pdf'\n",
    "\n",
    "# this one won't exist until we create it\n",
    "CSV_FILE = '../../data/warnreport.csv'"
   ]
  },
  {
   "cell_type": "markdown",
   "metadata": {},
   "source": [
    "### 2. Extract the data and write to CSV\n",
    "\n",
    "👉 For more details on reading and writing CSV files, [check out this notebook](../../reference/Reading%20and%20writing%20delimited%20data%20files%20with%20vanilla%20Python.ipynb)."
   ]
  },
  {
   "cell_type": "code",
   "execution_count": 4,
   "metadata": {},
   "outputs": [],
   "source": [
    "# open the PDF ~and~ a CSV to write out to\n",
    "with pdfplumber.open(PDF_FILE) as pdf, open(CSV_FILE, 'w', newline='') as outfile:\n",
    "    \n",
    "    # create a list-based writer object\n",
    "    writer = csv.writer(outfile)\n",
    "    \n",
    "    # write the header row\n",
    "    writer.writerow(cols)\n",
    "\n",
    "    # loop over the PDF pages\n",
    "    for page in pdf.pages:\n",
    "        \n",
    "        # extract the tables on each page and select the first one\n",
    "        table = page.extract_tables()[0]\n",
    "        \n",
    "        # loop over the rows in the table\n",
    "        for row in table:\n",
    "            # if it's a header row, skip and go to the next iteration\n",
    "            # see: https://docs.python.org/3/tutorial/controlflow.html#break-and-continue-statements-and-else-clauses-on-loops\n",
    "            if row[0] == 'Notice Date':\n",
    "                continue\n",
    "            # if it's the summary table, we're done, son\n",
    "            if row[0] == 'Summary By Month':\n",
    "                break\n",
    "            # otherwise, write the row to file\n",
    "            writer.writerow(row)"
   ]
  },
  {
   "cell_type": "markdown",
   "metadata": {},
   "source": [
    "### 3. Load the CSV into a pandas dataframe\n",
    "\n",
    "We'll also pass a list of date columns to the keyword argument `parse_dates` in the [`read_csv()`](https://pandas.pydata.org/pandas-docs/stable/generated/pandas.read_csv.html) method. That way our dates will be interpreted as dates, not text."
   ]
  },
  {
   "cell_type": "code",
   "execution_count": 5,
   "metadata": {},
   "outputs": [],
   "source": [
    "df = pd.read_csv(CSV_FILE,\n",
    "                 parse_dates=['notice_date',\n",
    "                              'received_date',\n",
    "                              'effective_date'])"
   ]
  },
  {
   "cell_type": "code",
   "execution_count": 6,
   "metadata": {},
   "outputs": [
    {
     "data": {
      "text/html": [
       "<div>\n",
       "<style scoped>\n",
       "    .dataframe tbody tr th:only-of-type {\n",
       "        vertical-align: middle;\n",
       "    }\n",
       "\n",
       "    .dataframe tbody tr th {\n",
       "        vertical-align: top;\n",
       "    }\n",
       "\n",
       "    .dataframe thead th {\n",
       "        text-align: right;\n",
       "    }\n",
       "</style>\n",
       "<table border=\"1\" class=\"dataframe\">\n",
       "  <thead>\n",
       "    <tr style=\"text-align: right;\">\n",
       "      <th></th>\n",
       "      <th>notice_date</th>\n",
       "      <th>effective_date</th>\n",
       "      <th>received_date</th>\n",
       "      <th>company</th>\n",
       "      <th>city</th>\n",
       "      <th>county</th>\n",
       "      <th>employee_no</th>\n",
       "      <th>warn_type</th>\n",
       "    </tr>\n",
       "  </thead>\n",
       "  <tbody>\n",
       "    <tr>\n",
       "      <th>0</th>\n",
       "      <td>2017-06-22</td>\n",
       "      <td>2017-06-22</td>\n",
       "      <td>2017-07-03</td>\n",
       "      <td>Space Systems/Loral, LLC (SSL)</td>\n",
       "      <td>Palo Alto</td>\n",
       "      <td>Santa Clara</td>\n",
       "      <td>173</td>\n",
       "      <td>Layoff Permanent</td>\n",
       "    </tr>\n",
       "    <tr>\n",
       "      <th>1</th>\n",
       "      <td>2017-06-23</td>\n",
       "      <td>2017-08-25</td>\n",
       "      <td>2017-07-03</td>\n",
       "      <td>The Boeing Company</td>\n",
       "      <td>El Segundo</td>\n",
       "      <td>Los Angeles</td>\n",
       "      <td>40</td>\n",
       "      <td>Layoff Unknown at this time</td>\n",
       "    </tr>\n",
       "    <tr>\n",
       "      <th>2</th>\n",
       "      <td>2017-06-23</td>\n",
       "      <td>2017-08-25</td>\n",
       "      <td>2017-07-03</td>\n",
       "      <td>The Boeing Company</td>\n",
       "      <td>Huntington</td>\n",
       "      <td>Orange County</td>\n",
       "      <td>47</td>\n",
       "      <td>Layoff Unknown at this time</td>\n",
       "    </tr>\n",
       "    <tr>\n",
       "      <th>3</th>\n",
       "      <td>2017-06-30</td>\n",
       "      <td>2017-09-01</td>\n",
       "      <td>2017-07-03</td>\n",
       "      <td>Micron Technology, Inc.</td>\n",
       "      <td>Milpitas</td>\n",
       "      <td>Santa Clara</td>\n",
       "      <td>57</td>\n",
       "      <td>Layoff Permanent</td>\n",
       "    </tr>\n",
       "    <tr>\n",
       "      <th>4</th>\n",
       "      <td>2017-07-05</td>\n",
       "      <td>2017-09-03</td>\n",
       "      <td>2017-07-05</td>\n",
       "      <td>Options for Youth-Victor Valley, Inc.</td>\n",
       "      <td>Fontana</td>\n",
       "      <td>San Bernardino</td>\n",
       "      <td>107</td>\n",
       "      <td>Closure Permanent</td>\n",
       "    </tr>\n",
       "  </tbody>\n",
       "</table>\n",
       "</div>"
      ],
      "text/plain": [
       "  notice_date effective_date received_date  \\\n",
       "0  2017-06-22     2017-06-22    2017-07-03   \n",
       "1  2017-06-23     2017-08-25    2017-07-03   \n",
       "2  2017-06-23     2017-08-25    2017-07-03   \n",
       "3  2017-06-30     2017-09-01    2017-07-03   \n",
       "4  2017-07-05     2017-09-03    2017-07-05   \n",
       "\n",
       "                                 company        city          county  \\\n",
       "0         Space Systems/Loral, LLC (SSL)   Palo Alto     Santa Clara   \n",
       "1                     The Boeing Company  El Segundo     Los Angeles   \n",
       "2                     The Boeing Company  Huntington   Orange County   \n",
       "3                Micron Technology, Inc.    Milpitas     Santa Clara   \n",
       "4  Options for Youth-Victor Valley, Inc.     Fontana  San Bernardino   \n",
       "\n",
       "   employee_no                    warn_type  \n",
       "0          173             Layoff Permanent  \n",
       "1           40  Layoff Unknown at this time  \n",
       "2           47  Layoff Unknown at this time  \n",
       "3           57             Layoff Permanent  \n",
       "4          107            Closure Permanent  "
      ]
     },
     "execution_count": 6,
     "metadata": {},
     "output_type": "execute_result"
    }
   ],
   "source": [
    "df.head()"
   ]
  },
  {
   "cell_type": "markdown",
   "metadata": {},
   "source": [
    "### 4. Analyze!\n",
    "\n",
    "What questions do you have?"
   ]
  },
  {
   "cell_type": "code",
   "execution_count": null,
   "metadata": {},
   "outputs": [],
   "source": []
  }
 ],
 "metadata": {
  "kernelspec": {
   "display_name": "Python 3",
   "language": "python",
   "name": "python3"
  },
  "language_info": {
   "codemirror_mode": {
    "name": "ipython",
    "version": 3
   },
   "file_extension": ".py",
   "mimetype": "text/x-python",
   "name": "python",
   "nbconvert_exporter": "python",
   "pygments_lexer": "ipython3",
   "version": "3.6.4"
  }
 },
 "nbformat": 4,
 "nbformat_minor": 2
}
