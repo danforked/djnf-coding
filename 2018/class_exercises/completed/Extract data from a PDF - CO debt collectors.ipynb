{
 "cells": [
  {
   "cell_type": "markdown",
   "metadata": {},
   "source": [
    "# Extract data from a PDF - CO debt collectors\n",
    "\n",
    "The PDF we'll be working with here is [a list of licensed debt collectors in Colorado](https://coag.gov/sites/default/files/contentuploads/cp/ConsumerCreditUnit/InternetReports/carreport_0.pdf). The data start on page 2, and each page has headers.\n",
    "\n",
    "Our steps:\n",
    "1. Import dependencies\n",
    "2. Create an empty pandas data frame and define the columns\n",
    "3. Create a function that extracts data from the table on a single PDF page and returns a data frame\n",
    "4. Loop over the pages, call the function on each page and append the resulting data frame to our empty data frame\n",
    "5. Clean up the data a bit\n",
    "6. Do some basic analysis"
   ]
  },
  {
   "cell_type": "markdown",
   "metadata": {},
   "source": [
    "### 1. Import dependencies"
   ]
  },
  {
   "cell_type": "code",
   "execution_count": 1,
   "metadata": {},
   "outputs": [],
   "source": [
    "import pdfplumber\n",
    "import pandas as pd"
   ]
  },
  {
   "cell_type": "markdown",
   "metadata": {},
   "source": [
    "### 2. Create an empty data frame and define the columns\n",
    "\n",
    "We're going to [create an empty data frame](https://pandas.pydata.org/pandas-docs/stable/generated/pandas.DataFrame.html). By looking at the source PDF, we can also define its column headers."
   ]
  },
  {
   "cell_type": "code",
   "execution_count": 5,
   "metadata": {},
   "outputs": [],
   "source": [
    "PDF_FILE = '../../data/collections.pdf'\n",
    "\n",
    "cols = ['bizname', 'license_loc', 'instate_loc', 'mailing_loc',\n",
    "        'license_no', 'lic_date', 'status', 'cr_date', 'action']\n",
    "\n",
    "df = pd.DataFrame(columns=cols)"
   ]
  },
  {
   "cell_type": "markdown",
   "metadata": {},
   "source": [
    "### 3. Create a function to extract data from a single PDF page\n",
    "\n",
    "This function will be called on every PDF page we hand it. Its job is simple: Take a `pdfplumber.Page` object, extract the table and return the data in a data frame with the same headers as the empty one we just created.\n",
    "\n",
    "👉 For more details on functions, [see this notebook](../../reference/Functions.ipynb)."
   ]
  },
  {
   "cell_type": "code",
   "execution_count": 6,
   "metadata": {},
   "outputs": [],
   "source": [
    "def page_to_df(page):\n",
    "    \n",
    "    # find the table on the page and extract the data\n",
    "    table = page.extract_table()\n",
    "    \n",
    "    # grab all rows in the table except for the first one,\n",
    "    # which is the header row\n",
    "    lines = table[1:]\n",
    "    \n",
    "    # return the data in a data frame\n",
    "    return pd.DataFrame(lines, columns=cols)"
   ]
  },
  {
   "cell_type": "markdown",
   "metadata": {},
   "source": [
    "### 4. Loop over the pages and call the function on each page\n",
    "\n",
    "As we extract the data from each page, we'll [append](https://pandas.pydata.org/pandas-docs/stable/generated/pandas.DataFrame.append.html) the data frame returned by our function to the empty data frame (`df`) that we created earlier. This code block takes a little while to run.\n",
    "\n",
    "👉 For more details on lists, slicing and _for loops_, [see this notebook](../../reference/Python%20data%20types%20and%20basic%20syntax.ipynb#for-loops)."
   ]
  },
  {
   "cell_type": "code",
   "execution_count": 7,
   "metadata": {},
   "outputs": [],
   "source": [
    "# open the PDF\n",
    "with pdfplumber.open(PDF_FILE) as pdf:\n",
    "    \n",
    "    # use list slicing to skip the first page, which doesn't have a data table\n",
    "    pages_with_data = pdf.pages[1:]\n",
    "    \n",
    "    # loop over the pages with data\n",
    "    for page in pages_with_data:\n",
    "        \n",
    "        # call the extraction function to grab the data from this page\n",
    "        df_to_append = page_to_df(page)\n",
    "        \n",
    "        # append this data to our main dataframe, chopping off the index column\n",
    "        df = df.append(df_to_append, ignore_index=True)"
   ]
  },
  {
   "cell_type": "markdown",
   "metadata": {},
   "source": [
    "Before we continue, let's take a look at what we've got using the pandas `head()` method."
   ]
  },
  {
   "cell_type": "code",
   "execution_count": 8,
   "metadata": {},
   "outputs": [
    {
     "data": {
      "text/html": [
       "<div>\n",
       "<style scoped>\n",
       "    .dataframe tbody tr th:only-of-type {\n",
       "        vertical-align: middle;\n",
       "    }\n",
       "\n",
       "    .dataframe tbody tr th {\n",
       "        vertical-align: top;\n",
       "    }\n",
       "\n",
       "    .dataframe thead th {\n",
       "        text-align: right;\n",
       "    }\n",
       "</style>\n",
       "<table border=\"1\" class=\"dataframe\">\n",
       "  <thead>\n",
       "    <tr style=\"text-align: right;\">\n",
       "      <th></th>\n",
       "      <th>bizname</th>\n",
       "      <th>license_loc</th>\n",
       "      <th>instate_loc</th>\n",
       "      <th>mailing_loc</th>\n",
       "      <th>license_no</th>\n",
       "      <th>lic_date</th>\n",
       "      <th>status</th>\n",
       "      <th>cr_date</th>\n",
       "      <th>action</th>\n",
       "    </tr>\n",
       "  </thead>\n",
       "  <tbody>\n",
       "    <tr>\n",
       "      <th>0</th>\n",
       "      <td>1ST CREDIT OF AMERICA LLC</td>\n",
       "      <td>300 N ELIZABETH ST STE 220-B\\nCHICAGO, IL 60607</td>\n",
       "      <td>3025 S PARKER RD STE 711\\nAURORA, CO 80014</td>\n",
       "      <td>300 N ELIZABETH ST STE 220-B\\nCHICAGO, IL 60607</td>\n",
       "      <td>988412</td>\n",
       "      <td>2/20/2004</td>\n",
       "      <td>C</td>\n",
       "      <td>5/15/2007</td>\n",
       "      <td>Yes</td>\n",
       "    </tr>\n",
       "    <tr>\n",
       "      <th>1</th>\n",
       "      <td>1ST NATIONAL RECOVERY \\nSOLUTIONS LLC</td>\n",
       "      <td>5497 BROADWAY ST\\nLANCASTER, NY 14086</td>\n",
       "      <td>600 17TH ST STE 800 NORTH\\nDENVER, CO 80202</td>\n",
       "      <td>5497 BROADWAY ST\\nLANCASTER, NY 14086</td>\n",
       "      <td>989708</td>\n",
       "      <td>8/15/2007</td>\n",
       "      <td>E</td>\n",
       "      <td>3/8/2010</td>\n",
       "      <td></td>\n",
       "    </tr>\n",
       "    <tr>\n",
       "      <th>2</th>\n",
       "      <td>1ST NATIONWIDE \\nCOLLECTION AGENCY INC</td>\n",
       "      <td>3760 CALLE TECATE STE B\\nCAMARILLO, CA 93012</td>\n",
       "      <td>3025 S PARKER RD STE 711\\nAURORA, CO 80014</td>\n",
       "      <td>PO BOX 1418\\nCAMARILLO, CA 93011-1418</td>\n",
       "      <td>989591</td>\n",
       "      <td>3/6/2007</td>\n",
       "      <td>C</td>\n",
       "      <td>11/12/2008</td>\n",
       "      <td></td>\n",
       "    </tr>\n",
       "    <tr>\n",
       "      <th>3</th>\n",
       "      <td>21ST MORTGAGE \\nCORPORATION</td>\n",
       "      <td>620 MARKET ST\\nKNOXVILLE, TN 37902</td>\n",
       "      <td>3455 W SERVICE RD\\nEVANS, CO 80620</td>\n",
       "      <td>PO BOX 477\\nKNOXVILLE, TN 37901-0477</td>\n",
       "      <td>991831</td>\n",
       "      <td>4/16/2013</td>\n",
       "      <td>A</td>\n",
       "      <td>Active</td>\n",
       "      <td></td>\n",
       "    </tr>\n",
       "    <tr>\n",
       "      <th>4</th>\n",
       "      <td>24 ASSET MANAGEMENT \\nCORP</td>\n",
       "      <td>2020 CAMINO DEL RIO N STE 900\\nSAN DIEGO, CA 9...</td>\n",
       "      <td>80 GARDEN CTR STE 3\\nBROOMFIELD, CO 80020</td>\n",
       "      <td>2020 CAMINO DEL RIO N STE \\n900\\nSAN DIEGO, CA...</td>\n",
       "      <td>990402</td>\n",
       "      <td>11/13/2009</td>\n",
       "      <td>C</td>\n",
       "      <td>1/6/2016</td>\n",
       "      <td></td>\n",
       "    </tr>\n",
       "  </tbody>\n",
       "</table>\n",
       "</div>"
      ],
      "text/plain": [
       "                                  bizname  \\\n",
       "0               1ST CREDIT OF AMERICA LLC   \n",
       "1   1ST NATIONAL RECOVERY \\nSOLUTIONS LLC   \n",
       "2  1ST NATIONWIDE \\nCOLLECTION AGENCY INC   \n",
       "3             21ST MORTGAGE \\nCORPORATION   \n",
       "4              24 ASSET MANAGEMENT \\nCORP   \n",
       "\n",
       "                                         license_loc  \\\n",
       "0    300 N ELIZABETH ST STE 220-B\\nCHICAGO, IL 60607   \n",
       "1              5497 BROADWAY ST\\nLANCASTER, NY 14086   \n",
       "2       3760 CALLE TECATE STE B\\nCAMARILLO, CA 93012   \n",
       "3                 620 MARKET ST\\nKNOXVILLE, TN 37902   \n",
       "4  2020 CAMINO DEL RIO N STE 900\\nSAN DIEGO, CA 9...   \n",
       "\n",
       "                                   instate_loc  \\\n",
       "0   3025 S PARKER RD STE 711\\nAURORA, CO 80014   \n",
       "1  600 17TH ST STE 800 NORTH\\nDENVER, CO 80202   \n",
       "2   3025 S PARKER RD STE 711\\nAURORA, CO 80014   \n",
       "3           3455 W SERVICE RD\\nEVANS, CO 80620   \n",
       "4    80 GARDEN CTR STE 3\\nBROOMFIELD, CO 80020   \n",
       "\n",
       "                                         mailing_loc license_no    lic_date  \\\n",
       "0    300 N ELIZABETH ST STE 220-B\\nCHICAGO, IL 60607     988412   2/20/2004   \n",
       "1              5497 BROADWAY ST\\nLANCASTER, NY 14086     989708   8/15/2007   \n",
       "2              PO BOX 1418\\nCAMARILLO, CA 93011-1418     989591    3/6/2007   \n",
       "3               PO BOX 477\\nKNOXVILLE, TN 37901-0477     991831   4/16/2013   \n",
       "4  2020 CAMINO DEL RIO N STE \\n900\\nSAN DIEGO, CA...     990402  11/13/2009   \n",
       "\n",
       "  status     cr_date action  \n",
       "0      C   5/15/2007    Yes  \n",
       "1      E    3/8/2010         \n",
       "2      C  11/12/2008         \n",
       "3      A      Active         \n",
       "4      C    1/6/2016         "
      ]
     },
     "execution_count": 8,
     "metadata": {},
     "output_type": "execute_result"
    }
   ],
   "source": [
    "df.head()"
   ]
  },
  {
   "cell_type": "markdown",
   "metadata": {},
   "source": [
    "### 5. Clean up the data a bit\n",
    "\n",
    "I notice two things:\n",
    "- `\\n` newline breaks are being interpreted literally as text -- let's globally [replace](https://pandas.pydata.org/pandas-docs/stable/generated/pandas.DataFrame.replace.html) those\n",
    "- The license date is coming in as a string, not a date, and we might be interested in doing some date filtering later -- let's coerce those values to date objects with the [`to_datetime()`](https://pandas.pydata.org/pandas-docs/stable/generated/pandas.to_datetime.html) method"
   ]
  },
  {
   "cell_type": "code",
   "execution_count": 16,
   "metadata": {},
   "outputs": [],
   "source": [
    "# kill line breaks\n",
    "df.replace('\\n', ' ', inplace=True, regex=True)\n",
    "\n",
    "# coerce license date col to datetime\n",
    "df.lic_date = pd.to_datetime(df.lic_date, errors='coerce')"
   ]
  },
  {
   "cell_type": "code",
   "execution_count": 17,
   "metadata": {},
   "outputs": [
    {
     "data": {
      "text/html": [
       "<div>\n",
       "<style scoped>\n",
       "    .dataframe tbody tr th:only-of-type {\n",
       "        vertical-align: middle;\n",
       "    }\n",
       "\n",
       "    .dataframe tbody tr th {\n",
       "        vertical-align: top;\n",
       "    }\n",
       "\n",
       "    .dataframe thead th {\n",
       "        text-align: right;\n",
       "    }\n",
       "</style>\n",
       "<table border=\"1\" class=\"dataframe\">\n",
       "  <thead>\n",
       "    <tr style=\"text-align: right;\">\n",
       "      <th></th>\n",
       "      <th>bizname</th>\n",
       "      <th>license_loc</th>\n",
       "      <th>instate_loc</th>\n",
       "      <th>mailing_loc</th>\n",
       "      <th>license_no</th>\n",
       "      <th>lic_date</th>\n",
       "      <th>status</th>\n",
       "      <th>cr_date</th>\n",
       "      <th>action</th>\n",
       "    </tr>\n",
       "  </thead>\n",
       "  <tbody>\n",
       "    <tr>\n",
       "      <th>0</th>\n",
       "      <td>1ST CREDIT OF AMERICA LLC</td>\n",
       "      <td>300 N ELIZABETH ST STE 220-B CHICAGO, IL 60607</td>\n",
       "      <td>3025 S PARKER RD STE 711 AURORA, CO 80014</td>\n",
       "      <td>300 N ELIZABETH ST STE 220-B CHICAGO, IL 60607</td>\n",
       "      <td>988412</td>\n",
       "      <td>2004-02-20</td>\n",
       "      <td>C</td>\n",
       "      <td>5/15/2007</td>\n",
       "      <td>Yes</td>\n",
       "    </tr>\n",
       "    <tr>\n",
       "      <th>1</th>\n",
       "      <td>1ST NATIONAL RECOVERY  SOLUTIONS LLC</td>\n",
       "      <td>5497 BROADWAY ST LANCASTER, NY 14086</td>\n",
       "      <td>600 17TH ST STE 800 NORTH DENVER, CO 80202</td>\n",
       "      <td>5497 BROADWAY ST LANCASTER, NY 14086</td>\n",
       "      <td>989708</td>\n",
       "      <td>2007-08-15</td>\n",
       "      <td>E</td>\n",
       "      <td>3/8/2010</td>\n",
       "      <td></td>\n",
       "    </tr>\n",
       "    <tr>\n",
       "      <th>2</th>\n",
       "      <td>1ST NATIONWIDE  COLLECTION AGENCY INC</td>\n",
       "      <td>3760 CALLE TECATE STE B CAMARILLO, CA 93012</td>\n",
       "      <td>3025 S PARKER RD STE 711 AURORA, CO 80014</td>\n",
       "      <td>PO BOX 1418 CAMARILLO, CA 93011-1418</td>\n",
       "      <td>989591</td>\n",
       "      <td>2007-03-06</td>\n",
       "      <td>C</td>\n",
       "      <td>11/12/2008</td>\n",
       "      <td></td>\n",
       "    </tr>\n",
       "    <tr>\n",
       "      <th>3</th>\n",
       "      <td>21ST MORTGAGE  CORPORATION</td>\n",
       "      <td>620 MARKET ST KNOXVILLE, TN 37902</td>\n",
       "      <td>3455 W SERVICE RD EVANS, CO 80620</td>\n",
       "      <td>PO BOX 477 KNOXVILLE, TN 37901-0477</td>\n",
       "      <td>991831</td>\n",
       "      <td>2013-04-16</td>\n",
       "      <td>A</td>\n",
       "      <td>Active</td>\n",
       "      <td></td>\n",
       "    </tr>\n",
       "    <tr>\n",
       "      <th>4</th>\n",
       "      <td>24 ASSET MANAGEMENT  CORP</td>\n",
       "      <td>2020 CAMINO DEL RIO N STE 900 SAN DIEGO, CA 92108</td>\n",
       "      <td>80 GARDEN CTR STE 3 BROOMFIELD, CO 80020</td>\n",
       "      <td>2020 CAMINO DEL RIO N STE  900 SAN DIEGO, CA 9...</td>\n",
       "      <td>990402</td>\n",
       "      <td>2009-11-13</td>\n",
       "      <td>C</td>\n",
       "      <td>1/6/2016</td>\n",
       "      <td></td>\n",
       "    </tr>\n",
       "  </tbody>\n",
       "</table>\n",
       "</div>"
      ],
      "text/plain": [
       "                                 bizname  \\\n",
       "0              1ST CREDIT OF AMERICA LLC   \n",
       "1   1ST NATIONAL RECOVERY  SOLUTIONS LLC   \n",
       "2  1ST NATIONWIDE  COLLECTION AGENCY INC   \n",
       "3             21ST MORTGAGE  CORPORATION   \n",
       "4              24 ASSET MANAGEMENT  CORP   \n",
       "\n",
       "                                         license_loc  \\\n",
       "0     300 N ELIZABETH ST STE 220-B CHICAGO, IL 60607   \n",
       "1               5497 BROADWAY ST LANCASTER, NY 14086   \n",
       "2        3760 CALLE TECATE STE B CAMARILLO, CA 93012   \n",
       "3                  620 MARKET ST KNOXVILLE, TN 37902   \n",
       "4  2020 CAMINO DEL RIO N STE 900 SAN DIEGO, CA 92108   \n",
       "\n",
       "                                  instate_loc  \\\n",
       "0   3025 S PARKER RD STE 711 AURORA, CO 80014   \n",
       "1  600 17TH ST STE 800 NORTH DENVER, CO 80202   \n",
       "2   3025 S PARKER RD STE 711 AURORA, CO 80014   \n",
       "3           3455 W SERVICE RD EVANS, CO 80620   \n",
       "4    80 GARDEN CTR STE 3 BROOMFIELD, CO 80020   \n",
       "\n",
       "                                         mailing_loc license_no   lic_date  \\\n",
       "0     300 N ELIZABETH ST STE 220-B CHICAGO, IL 60607     988412 2004-02-20   \n",
       "1               5497 BROADWAY ST LANCASTER, NY 14086     989708 2007-08-15   \n",
       "2               PO BOX 1418 CAMARILLO, CA 93011-1418     989591 2007-03-06   \n",
       "3                PO BOX 477 KNOXVILLE, TN 37901-0477     991831 2013-04-16   \n",
       "4  2020 CAMINO DEL RIO N STE  900 SAN DIEGO, CA 9...     990402 2009-11-13   \n",
       "\n",
       "  status     cr_date action  \n",
       "0      C   5/15/2007    Yes  \n",
       "1      E    3/8/2010         \n",
       "2      C  11/12/2008         \n",
       "3      A      Active         \n",
       "4      C    1/6/2016         "
      ]
     },
     "execution_count": 17,
     "metadata": {},
     "output_type": "execute_result"
    }
   ],
   "source": [
    "df.head()"
   ]
  },
  {
   "cell_type": "markdown",
   "metadata": {},
   "source": [
    "## 6. Do some basic analysis\n",
    "\n",
    "Let's get a feel for how many records there are and figure out how many of debt collectors have been subject to some kind of \"action.\"\n",
    "\n",
    "According to the Colorado Attorney General (see page 1 of the PDF), the presence of \"Yes\" in the \"action\" column means that the company has been\n",
    "\n",
    "> subject to legal or administrative action by this office or the licensee entered into a voluntary settlement with this office. If the entry is \"yes,\" the licensee may have been subject to one or more letters of admonition, suspension of the license, a judgment or order against the licensee, or other action, including payments (fines, penalties, consumer refunds, or other monetary payments.) Additionally, \"yes\" may mean that the licensee's records include a voluntary settlement or stipulation with this office. If a licensee has been disciplined, it might still retain its license. Actions and settlements are matters of public record although research, copying, and mailing costs may apply. Contact this office for more information.\n",
    "\n",
    "👉 We're about to do some string formatting. For more details on string formatting, [check out this notebook](../../reference/String%20formatting.ipynb)."
   ]
  },
  {
   "cell_type": "code",
   "execution_count": 18,
   "metadata": {},
   "outputs": [],
   "source": [
    "# how many records are there?\n",
    "record_count = len(df)"
   ]
  },
  {
   "cell_type": "code",
   "execution_count": 24,
   "metadata": {},
   "outputs": [
    {
     "name": "stdout",
     "output_type": "stream",
     "text": [
      "Of 2,402 licensed debt collectors in Colorado, 687 (28.60%) have been subject to some form of legal or administrative action, according to an analysis of Colorado Secretary of State data.\n"
     ]
    }
   ],
   "source": [
    "# let's look just at collectors who have had some action taken against them\n",
    "action = df[df.action == 'Yes']\n",
    "\n",
    "# use string formatting to write a formatted sentence\n",
    "# https://docs.python.org/3.4/library/string.html#format-examples\n",
    "tpl = ('Of {colcount:,} licensed debt collectors in Colorado, {actioncount:,}'\n",
    "       ' ({actionpct:.2f}%) have been subject to some form of legal '\n",
    "       'or administrative action, according to an analysis of'\n",
    "       ' Colorado Secretary of State data.')\n",
    "\n",
    "story_sentence = tpl.format(colcount=record_count,\n",
    "                            actioncount=len(action),\n",
    "                            actionpct=(len(action) / record_count) * 100)\n",
    "\n",
    "print(story_sentence)"
   ]
  },
  {
   "cell_type": "code",
   "execution_count": null,
   "metadata": {},
   "outputs": [],
   "source": [
    "# what else?"
   ]
  }
 ],
 "metadata": {
  "kernelspec": {
   "display_name": "Python 3",
   "language": "python",
   "name": "python3"
  },
  "language_info": {
   "codemirror_mode": {
    "name": "ipython",
    "version": 3
   },
   "file_extension": ".py",
   "mimetype": "text/x-python",
   "name": "python",
   "nbconvert_exporter": "python",
   "pygments_lexer": "ipython3",
   "version": "3.6.4"
  }
 },
 "nbformat": 4,
 "nbformat_minor": 2
}
