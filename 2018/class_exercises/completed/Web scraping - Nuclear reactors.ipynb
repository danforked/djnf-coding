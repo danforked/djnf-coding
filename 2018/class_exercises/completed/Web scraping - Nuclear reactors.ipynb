{
 "cells": [
  {
   "cell_type": "markdown",
   "metadata": {},
   "source": [
    "# Let's scrape some nuclear reactors\n",
    "\n",
    "Our goal: Scrape [a table of U.S. nuclear reactors](https://www.nrc.gov/reactors/operating/list-power-reactor-units.html) into a CSV."
   ]
  },
  {
   "cell_type": "markdown",
   "metadata": {},
   "source": [
    "### Import the libraries"
   ]
  },
  {
   "cell_type": "code",
   "execution_count": 1,
   "metadata": {},
   "outputs": [],
   "source": [
    "import csv\n",
    "\n",
    "import requests\n",
    "from bs4 import BeautifulSoup"
   ]
  },
  {
   "cell_type": "markdown",
   "metadata": {},
   "source": [
    "### Fetch and parse the HTML"
   ]
  },
  {
   "cell_type": "code",
   "execution_count": 2,
   "metadata": {},
   "outputs": [],
   "source": [
    "# define the url\n",
    "URL = 'https://www.nrc.gov/reactors/operating/list-power-reactor-units.html'\n",
    "\n",
    "# get the page\n",
    "nrc_page = requests.get(URL)\n",
    "\n",
    "# specify the encoding - not always necessary\n",
    "nrc_page.encoding = 'UTF-8'\n",
    "\n",
    "# turn it into soup\n",
    "soup = BeautifulSoup(nrc_page.text, 'html.parser')"
   ]
  },
  {
   "cell_type": "markdown",
   "metadata": {},
   "source": [
    "### Find the table"
   ]
  },
  {
   "cell_type": "code",
   "execution_count": 3,
   "metadata": {},
   "outputs": [],
   "source": [
    "reactor_table = soup.find('table')"
   ]
  },
  {
   "cell_type": "markdown",
   "metadata": {},
   "source": [
    "### Loop over the rows and write to CSV"
   ]
  },
  {
   "cell_type": "code",
   "execution_count": 4,
   "metadata": {},
   "outputs": [],
   "source": [
    "with open('reactors.csv', 'w') as outfile:\n",
    "    \n",
    "    writer = csv.DictWriter(outfile, fieldnames=['name', 'link', 'docket', 'reactor_type',\n",
    "                                                 'license', 'location', 'owner', 'region'])\n",
    "\n",
    "    writer.writeheader()\n",
    "\n",
    "    for row in reactor_table.find_all('tr')[1:]:\n",
    "        # each <tr> has some <td> cells inside it; we'll move these into variables,\n",
    "        # do some string manipulations and write to the CSV\n",
    "        cells = row.find_all('td')\n",
    "\n",
    "        # reactor name, detail page link and docket number are all part of the first cell\n",
    "        # the .contents() method returns a list of a tag's children -->\n",
    "        # https://www.crummy.com/software/BeautifulSoup/bs4/doc/#contents-and-children\n",
    "        name = cells[0].contents[0].string\n",
    "        link = 'https://www.nrc.gov' + cells[0].contents[0]['href']\n",
    "        docket = cells[0].contents[2].strip()\n",
    "        \n",
    "        # license number is in the second cell\n",
    "        license = cells[1].string.strip()\n",
    "        \n",
    "        # reactor type is in the third cell\n",
    "        reactor_type = cells[2].string.strip()\n",
    "\n",
    "        # location is in the fourth cell\n",
    "        location = cells[3].string.strip()\n",
    "        \n",
    "        # some of the locations have multiple internal spaces -- here's a trick for dealing with that\n",
    "        # https://stackoverflow.com/a/1546251\n",
    "        location = ' '.join(location.split())\n",
    "        \n",
    "        # owner is in the fifth cell\n",
    "        owner = cells[4].contents[0].strip()\n",
    "        \n",
    "        # region is in the sixth cell\n",
    "        region = cells[5].string.strip()\n",
    "\n",
    "        writer.writerow({\n",
    "            'name': name,\n",
    "            'link': link,\n",
    "            'docket': docket,\n",
    "            'reactor_type': reactor_type,\n",
    "            'license': license,\n",
    "            'location': location,\n",
    "            'owner': owner,\n",
    "            'region': region\n",
    "        })"
   ]
  },
  {
   "cell_type": "code",
   "execution_count": null,
   "metadata": {},
   "outputs": [],
   "source": []
  }
 ],
 "metadata": {
  "kernelspec": {
   "display_name": "Python 3",
   "language": "python",
   "name": "python3"
  },
  "language_info": {
   "codemirror_mode": {
    "name": "ipython",
    "version": 3
   },
   "file_extension": ".py",
   "mimetype": "text/x-python",
   "name": "python",
   "nbconvert_exporter": "python",
   "pygments_lexer": "ipython3",
   "version": "3.6.4"
  }
 },
 "nbformat": 4,
 "nbformat_minor": 2
}
