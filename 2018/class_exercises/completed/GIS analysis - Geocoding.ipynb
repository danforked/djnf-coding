{
 "cells": [
  {
   "cell_type": "markdown",
   "metadata": {},
   "source": [
    "# Let's geocode some addresses\n",
    "\n",
    "Geocoding is the process of turning an address -- `'141 Neff Annex, Columbia, MO 65211'` -- into a latitude/longitude coordinate pair -- `(38.9480979,-92.3303756)`. You'd need to do this if you wanted to do some GIS analysis or make an interactive map or whatever.\n",
    "\n",
    "**Our task**: To geocode the addresses of your internship newsrooms.\n",
    "\n",
    "**Our data** can be found here: `../../data/djnf_data_2018.csv`.\n",
    "\n",
    "For this task, we shall use a library called [`geopy`](https://geopy.readthedocs.io/en/stable/). We'll also use our friend `pandas` and a couple of built-in Python modules: [`time`](https://docs.python.org/3/library/time.html) and [`os`](https://docs.python.org/3/library/os.html). Our steps:\n",
    "- Import the libraries we need\n",
    "- Grab an [environment variable](https://en.wikipedia.org/wiki/Environment_variable) that your computer is keeping track of -- a key that will allow us to use the Google Geocoder API\n",
    "- Read the data into a pandas dataframe\n",
    "- Write a short function to geocode an address and return the coordinates\n",
    "- Apply that function to each row of our dataframe"
   ]
  },
  {
   "cell_type": "markdown",
   "metadata": {},
   "source": [
    "### Import modules"
   ]
  },
  {
   "cell_type": "code",
   "execution_count": null,
   "metadata": {},
   "outputs": [],
   "source": [
    "import time\n",
    "import os\n",
    "\n",
    "import pandas as pd\n",
    "from geopy.geocoders import GoogleV3"
   ]
  },
  {
   "cell_type": "markdown",
   "metadata": {},
   "source": [
    "### Grab the geocoder API key and set up the geocoder\n",
    "\n",
    "I followed [these instructions](https://developers.google.com/maps/documentation/geocoding/get-api-key) to get an API key. Then I saved that key as an environmental variable on my computer called `GOOGLE_GEOCODE_KEY`).\n",
    "\n",
    "Your computer should have this variable already set."
   ]
  },
  {
   "cell_type": "code",
   "execution_count": null,
   "metadata": {},
   "outputs": [],
   "source": [
    "GOOGLE_GEO_API_KEY = os.environ.get('GOOGLE_GEOCODE_KEY')"
   ]
  },
  {
   "cell_type": "code",
   "execution_count": null,
   "metadata": {},
   "outputs": [],
   "source": [
    "# Make a geolocator object\n",
    "# Set the `timeout` keyword argument to 5 (seconds)\n",
    "# https://geopy.readthedocs.io/en/stable/#geopy.geocoders.GoogleV3\n",
    "geolocator = GoogleV3(api_key=GOOGLE_GEO_API_KEY, timeout=5)"
   ]
  },
  {
   "cell_type": "markdown",
   "metadata": {},
   "source": [
    "### Read in the data"
   ]
  },
  {
   "cell_type": "code",
   "execution_count": null,
   "metadata": {},
   "outputs": [],
   "source": [
    "intern_data = pd.read_csv('../../data/djnf_data_2018.csv')"
   ]
  },
  {
   "cell_type": "code",
   "execution_count": null,
   "metadata": {},
   "outputs": [],
   "source": [
    "intern_data.head()"
   ]
  },
  {
   "cell_type": "markdown",
   "metadata": {},
   "source": [
    "### Write a function to process one row of data\n",
    "\n",
    "Our function will accept one row of data in our data frame. It will take the value in the \"address\" field and geocode it using the geocoder object we created earlier. It will grab the `latitude` and `longitude` values from the object that gets returned. It will print the original address and these coordinates, pause (\"sleep\") for two seconds -- this is to avoid getting banned by Google -- then return the coordinates.\n",
    "\n",
    "👉 For more details on functions, see [this notebook](../../reference/Functions.ipynb)."
   ]
  },
  {
   "cell_type": "code",
   "execution_count": null,
   "metadata": {},
   "outputs": [],
   "source": [
    "def get_coordinates(row):\n",
    "    '''given a row of data, geocode the address and return the coordinates'''\n",
    "    \n",
    "    # geocode the value in the `address` column\n",
    "    location = geolocator.geocode(row['address'])\n",
    "    \n",
    "    # get the lat/lng coordinates\n",
    "    coords = (location.latitude, location.longitude)\n",
    "    \n",
    "    # print to show us that it's working\n",
    "    print(row['address'], coords)\n",
    "    \n",
    "    # pause for 2 seconds\n",
    "    time.sleep(2)\n",
    "\n",
    "    # return the coordinates\n",
    "    return coords"
   ]
  },
  {
   "cell_type": "markdown",
   "metadata": {},
   "source": [
    "### Apply this function to each row in the dataframe\n",
    "\n",
    "... using the [`apply()`](https://pandas.pydata.org/pandas-docs/stable/generated/pandas.DataFrame.apply.html) method, specifying `axis=1` to tell pandas that we want to apply this function to each _row_ of data."
   ]
  },
  {
   "cell_type": "code",
   "execution_count": null,
   "metadata": {},
   "outputs": [],
   "source": [
    "print('Geocoding {} records ...'.format(len(intern_data)))\n",
    "\n",
    "intern_data['coords'] = intern_data.apply(get_coordinates, axis=1)"
   ]
  },
  {
   "cell_type": "code",
   "execution_count": null,
   "metadata": {},
   "outputs": [],
   "source": [
    "intern_data.head()"
   ]
  }
 ],
 "metadata": {
  "kernelspec": {
   "display_name": "Python 3",
   "language": "python",
   "name": "python3"
  },
  "language_info": {
   "codemirror_mode": {
    "name": "ipython",
    "version": 3
   },
   "file_extension": ".py",
   "mimetype": "text/x-python",
   "name": "python",
   "nbconvert_exporter": "python",
   "pygments_lexer": "ipython3",
   "version": "3.6.4"
  }
 },
 "nbformat": 4,
 "nbformat_minor": 2
}
