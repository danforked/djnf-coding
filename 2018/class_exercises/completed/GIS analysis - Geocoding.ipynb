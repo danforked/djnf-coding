{
 "cells": [
  {
   "cell_type": "markdown",
   "metadata": {},
   "source": [
    "# Let's geocode some addresses\n",
    "\n",
    "Geocoding is the process of turning an address -- `'141 Neff Annex, Columbia, MO 65211'` -- into a latitude/longitude coordinate pair -- `(38.9480979,-92.3303756)`. You'd need to do this if you wanted to do some GIS analysis or make an interactive map or whatever.\n",
    "\n",
    "**Our task**: To geocode the addresses of your internship newsrooms.\n",
    "\n",
    "**Our data** can be found here: `../../data/djnf_data_2018.csv`.\n",
    "\n",
    "For this task, we shall use a library called [`geopy`](https://geopy.readthedocs.io/en/stable/) with an open-source geocoding engine called [OpenCage](https://geocoder.opencagedata.com/api). Before setting up this script, [I signed up for an API key](https://geocoder.opencagedata.com/users/sign_up) and saved that key as an [environment variable](https://en.wikipedia.org/wiki/Environment_variable) on this machine. \n",
    "\n",
    "The `geopy` library allows you to use other geocoding engines, including Google's, which is (in my experience) the most accurate. But [recent changes to its service](https://cloud.google.com/maps-platform/user-guide/account-changes/#no-plan) mean that you now must supply a credit card when you apply for an API key, which is why we're not using it here, but it's worth exploring.\n",
    "\n",
    "We'll also use our friend `pandas` and a couple of built-in Python modules: [`os`](https://docs.python.org/3/library/os.html) (to access the API key) and [`time`](https://docs.python.org/3/library/time.html) (to pause between API requests).\n",
    "\n",
    "Our steps:\n",
    "1. Import the modules we need\n",
    "2. Grab the environment variable that your computer is keeping track of -- a key that will allow us to use the OpenCage API\n",
    "2. Set up the geocoder\n",
    "3. Read the data into a pandas dataframe\n",
    "4. Write a short function to geocode an address and return the coordinates\n",
    "5. Apply that function to each row of our dataframe"
   ]
  },
  {
   "cell_type": "markdown",
   "metadata": {},
   "source": [
    "### 1. Import the modules we need"
   ]
  },
  {
   "cell_type": "code",
   "execution_count": 9,
   "metadata": {},
   "outputs": [],
   "source": [
    "import time\n",
    "import os\n",
    "\n",
    "import pandas as pd\n",
    "from geopy.geocoders import OpenCage"
   ]
  },
  {
   "cell_type": "markdown",
   "metadata": {},
   "source": [
    "### 2. Grab the environment variable\n",
    "\n",
    "`os.environ` is a dictionary of environment variables on your computer."
   ]
  },
  {
   "cell_type": "code",
   "execution_count": 10,
   "metadata": {},
   "outputs": [],
   "source": [
    "OPENCAGE_GEOCODE_KEY = os.environ.get('OPENCAGE_GEOCODE_KEY')"
   ]
  },
  {
   "cell_type": "markdown",
   "metadata": {},
   "source": [
    "### 3. Set up the geocoder"
   ]
  },
  {
   "cell_type": "code",
   "execution_count": 11,
   "metadata": {},
   "outputs": [],
   "source": [
    "geolocator = OpenCage(api_key=OPENCAGE_GEOCODE_KEY)"
   ]
  },
  {
   "cell_type": "markdown",
   "metadata": {},
   "source": [
    "### 4. Read the data into pandas"
   ]
  },
  {
   "cell_type": "code",
   "execution_count": 12,
   "metadata": {},
   "outputs": [],
   "source": [
    "intern_data = pd.read_csv('../../data/djnf_data_2018.csv')"
   ]
  },
  {
   "cell_type": "code",
   "execution_count": 13,
   "metadata": {},
   "outputs": [
    {
     "data": {
      "text/html": [
       "<div>\n",
       "<style scoped>\n",
       "    .dataframe tbody tr th:only-of-type {\n",
       "        vertical-align: middle;\n",
       "    }\n",
       "\n",
       "    .dataframe tbody tr th {\n",
       "        vertical-align: top;\n",
       "    }\n",
       "\n",
       "    .dataframe thead th {\n",
       "        text-align: right;\n",
       "    }\n",
       "</style>\n",
       "<table border=\"1\" class=\"dataframe\">\n",
       "  <thead>\n",
       "    <tr style=\"text-align: right;\">\n",
       "      <th></th>\n",
       "      <th>intern</th>\n",
       "      <th>university</th>\n",
       "      <th>site</th>\n",
       "      <th>address</th>\n",
       "    </tr>\n",
       "  </thead>\n",
       "  <tbody>\n",
       "    <tr>\n",
       "      <th>0</th>\n",
       "      <td>Orlaith McCaffrey</td>\n",
       "      <td>Binghamton University</td>\n",
       "      <td>Wall Street Journal</td>\n",
       "      <td>1211 6th Ave, New York, NY 10036</td>\n",
       "    </tr>\n",
       "    <tr>\n",
       "      <th>1</th>\n",
       "      <td>Ravinarayanan Lakshmanan</td>\n",
       "      <td>Columbia University</td>\n",
       "      <td>Financial Planning</td>\n",
       "      <td>1 State St. Plaza, 27th floor, New York NY 10004</td>\n",
       "    </tr>\n",
       "    <tr>\n",
       "      <th>2</th>\n",
       "      <td>Adriana Navarro</td>\n",
       "      <td>Ohio University</td>\n",
       "      <td>AccuWeather</td>\n",
       "      <td>385 Science Park Road, State College, PA 16801</td>\n",
       "    </tr>\n",
       "    <tr>\n",
       "      <th>3</th>\n",
       "      <td>Nishant Mohan</td>\n",
       "      <td>University of Idaho</td>\n",
       "      <td>The Wall Street Journal</td>\n",
       "      <td>1211 Avenue of the Americas, New York NY 10036</td>\n",
       "    </tr>\n",
       "    <tr>\n",
       "      <th>4</th>\n",
       "      <td>Lindsay Huth</td>\n",
       "      <td>University of Maryland, College Park</td>\n",
       "      <td>Kansas City Public Television (KCPT)</td>\n",
       "      <td>125 E. 31st St. Kansas City, MO 64108</td>\n",
       "    </tr>\n",
       "  </tbody>\n",
       "</table>\n",
       "</div>"
      ],
      "text/plain": [
       "                     intern                            university  \\\n",
       "0         Orlaith McCaffrey                 Binghamton University   \n",
       "1  Ravinarayanan Lakshmanan                   Columbia University   \n",
       "2           Adriana Navarro                       Ohio University   \n",
       "3             Nishant Mohan                   University of Idaho   \n",
       "4              Lindsay Huth  University of Maryland, College Park   \n",
       "\n",
       "                                   site  \\\n",
       "0                   Wall Street Journal   \n",
       "1                    Financial Planning   \n",
       "2                           AccuWeather   \n",
       "3               The Wall Street Journal   \n",
       "4  Kansas City Public Television (KCPT)   \n",
       "\n",
       "                                            address  \n",
       "0                  1211 6th Ave, New York, NY 10036  \n",
       "1  1 State St. Plaza, 27th floor, New York NY 10004  \n",
       "2    385 Science Park Road, State College, PA 16801  \n",
       "3    1211 Avenue of the Americas, New York NY 10036  \n",
       "4             125 E. 31st St. Kansas City, MO 64108  "
      ]
     },
     "execution_count": 13,
     "metadata": {},
     "output_type": "execute_result"
    }
   ],
   "source": [
    "intern_data.head()"
   ]
  },
  {
   "cell_type": "markdown",
   "metadata": {},
   "source": [
    "### 5. Write a function to process one row of data\n",
    "\n",
    "Our function will accept one row of data in our data frame. It will take the value in the \"address\" field and geocode it using the geocoder object we created earlier. It will grab the `latitude` and `longitude` values from the object that gets returned. It will print the original address and these coordinates, pause (\"sleep\") for two seconds -- this is to avoid getting banned by OpenCage -- then return the coordinates.\n",
    "\n",
    "An `if/else` branch handles cases where the geocoder is unsuccessful -- in that case, it returns `(0, 0)`.\n",
    "\n",
    "![0,0](../../img/middle-of-the-world.png \"0,0\")\n",
    "\n",
    "👉 For more details on functions, see [this notebook](../../reference/Functions.ipynb).\n",
    "\n",
    "👉 For more details on if statements, see [this notebook](../../reference/Python%20data%20types%20and%20basic%20syntax.ipynb#if-statements)."
   ]
  },
  {
   "cell_type": "code",
   "execution_count": 14,
   "metadata": {},
   "outputs": [],
   "source": [
    "def get_coordinates(row):\n",
    "    '''given a row of data, geocode the address and return the coordinates'''\n",
    "    \n",
    "    # geocode the value in the `address` column\n",
    "    location = geolocator.geocode(row['address'])\n",
    "    \n",
    "    # make sure it worked with an if/else branch\n",
    "    if location:\n",
    "        # get the lat/lng coordinates\n",
    "        coords = (location.latitude, location.longitude)\n",
    "\n",
    "        # print to show us that it's working\n",
    "        print(row['address'], coords)\n",
    "    else:\n",
    "        print(row['address'], 'could not be geocoded.')\n",
    "        coords = (0, 0)\n",
    "    \n",
    "    # pause for 2 seconds\n",
    "    time.sleep(2)\n",
    "\n",
    "    # return the coordinates\n",
    "    return coords"
   ]
  },
  {
   "cell_type": "markdown",
   "metadata": {},
   "source": [
    "### 6.  this function to each row in the dataframe\n",
    "\n",
    "... using the [`apply()`](https://pandas.pydata.org/pandas-docs/stable/generated/pandas.DataFrame.apply.html) method, specifying `axis=1` to tell pandas that we want to apply this function to each _row_ of data."
   ]
  },
  {
   "cell_type": "code",
   "execution_count": 15,
   "metadata": {},
   "outputs": [
    {
     "name": "stdout",
     "output_type": "stream",
     "text": [
      "Geocoding 12 records ...\n",
      "1211 6th Ave, New York, NY 10036 (40.758469, -73.9819579)\n",
      "1 State St. Plaza, 27th floor, New York NY 10004 (40.6964, -74.0253)\n",
      "385 Science Park Road, State College, PA 16801 (40.7925, -77.8523)\n",
      "1211 Avenue of the Americas, New York NY 10036 (40.7586694, -73.9823756)\n",
      "125 E. 31st St. Kansas City, MO 64108 (39.0837, -94.5868)\n",
      "919 Congress Ave., 6th Floor Austin TX 78701 (30.2713, -97.7426)\n",
      "4400 Massachusetts Ave., N.W. Washington DC 20016 (38.9381, -77.086)\n",
      "7950 Jones Branch Drive McLean, VA 22108 (38.9325446, -77.2178005)\n",
      "919 Congress Ave., 6th Floor Austin TX 78701 (30.2713, -97.7426)\n",
      "1201 K St., Suite 1200 Sacramento, CA 95814 (38.5804, -121.4922)\n",
      "36 Russ St., Hartford, CT 06106 (41.761349, -72.683941)\n",
      "2340 Eighth Avenue, New York NY 10027 (43.216233, -74.1823014)\n"
     ]
    }
   ],
   "source": [
    "print('Geocoding {} records ...'.format(len(intern_data)))\n",
    "\n",
    "intern_data['coords'] = intern_data.apply(get_coordinates, axis=1)"
   ]
  },
  {
   "cell_type": "code",
   "execution_count": 16,
   "metadata": {},
   "outputs": [
    {
     "data": {
      "text/html": [
       "<div>\n",
       "<style scoped>\n",
       "    .dataframe tbody tr th:only-of-type {\n",
       "        vertical-align: middle;\n",
       "    }\n",
       "\n",
       "    .dataframe tbody tr th {\n",
       "        vertical-align: top;\n",
       "    }\n",
       "\n",
       "    .dataframe thead th {\n",
       "        text-align: right;\n",
       "    }\n",
       "</style>\n",
       "<table border=\"1\" class=\"dataframe\">\n",
       "  <thead>\n",
       "    <tr style=\"text-align: right;\">\n",
       "      <th></th>\n",
       "      <th>intern</th>\n",
       "      <th>university</th>\n",
       "      <th>site</th>\n",
       "      <th>address</th>\n",
       "      <th>coords</th>\n",
       "    </tr>\n",
       "  </thead>\n",
       "  <tbody>\n",
       "    <tr>\n",
       "      <th>0</th>\n",
       "      <td>Orlaith McCaffrey</td>\n",
       "      <td>Binghamton University</td>\n",
       "      <td>Wall Street Journal</td>\n",
       "      <td>1211 6th Ave, New York, NY 10036</td>\n",
       "      <td>(40.758469, -73.9819579)</td>\n",
       "    </tr>\n",
       "    <tr>\n",
       "      <th>1</th>\n",
       "      <td>Ravinarayanan Lakshmanan</td>\n",
       "      <td>Columbia University</td>\n",
       "      <td>Financial Planning</td>\n",
       "      <td>1 State St. Plaza, 27th floor, New York NY 10004</td>\n",
       "      <td>(40.6964, -74.0253)</td>\n",
       "    </tr>\n",
       "    <tr>\n",
       "      <th>2</th>\n",
       "      <td>Adriana Navarro</td>\n",
       "      <td>Ohio University</td>\n",
       "      <td>AccuWeather</td>\n",
       "      <td>385 Science Park Road, State College, PA 16801</td>\n",
       "      <td>(40.7925, -77.8523)</td>\n",
       "    </tr>\n",
       "    <tr>\n",
       "      <th>3</th>\n",
       "      <td>Nishant Mohan</td>\n",
       "      <td>University of Idaho</td>\n",
       "      <td>The Wall Street Journal</td>\n",
       "      <td>1211 Avenue of the Americas, New York NY 10036</td>\n",
       "      <td>(40.7586694, -73.9823756)</td>\n",
       "    </tr>\n",
       "    <tr>\n",
       "      <th>4</th>\n",
       "      <td>Lindsay Huth</td>\n",
       "      <td>University of Maryland, College Park</td>\n",
       "      <td>Kansas City Public Television (KCPT)</td>\n",
       "      <td>125 E. 31st St. Kansas City, MO 64108</td>\n",
       "      <td>(39.0837, -94.5868)</td>\n",
       "    </tr>\n",
       "  </tbody>\n",
       "</table>\n",
       "</div>"
      ],
      "text/plain": [
       "                     intern                            university  \\\n",
       "0         Orlaith McCaffrey                 Binghamton University   \n",
       "1  Ravinarayanan Lakshmanan                   Columbia University   \n",
       "2           Adriana Navarro                       Ohio University   \n",
       "3             Nishant Mohan                   University of Idaho   \n",
       "4              Lindsay Huth  University of Maryland, College Park   \n",
       "\n",
       "                                   site  \\\n",
       "0                   Wall Street Journal   \n",
       "1                    Financial Planning   \n",
       "2                           AccuWeather   \n",
       "3               The Wall Street Journal   \n",
       "4  Kansas City Public Television (KCPT)   \n",
       "\n",
       "                                            address                     coords  \n",
       "0                  1211 6th Ave, New York, NY 10036   (40.758469, -73.9819579)  \n",
       "1  1 State St. Plaza, 27th floor, New York NY 10004        (40.6964, -74.0253)  \n",
       "2    385 Science Park Road, State College, PA 16801        (40.7925, -77.8523)  \n",
       "3    1211 Avenue of the Americas, New York NY 10036  (40.7586694, -73.9823756)  \n",
       "4             125 E. 31st St. Kansas City, MO 64108        (39.0837, -94.5868)  "
      ]
     },
     "execution_count": 16,
     "metadata": {},
     "output_type": "execute_result"
    }
   ],
   "source": [
    "intern_data.head()"
   ]
  },
  {
   "cell_type": "code",
   "execution_count": null,
   "metadata": {},
   "outputs": [],
   "source": []
  }
 ],
 "metadata": {
  "kernelspec": {
   "display_name": "Python 3",
   "language": "python",
   "name": "python3"
  },
  "language_info": {
   "codemirror_mode": {
    "name": "ipython",
    "version": 3
   },
   "file_extension": ".py",
   "mimetype": "text/x-python",
   "name": "python",
   "nbconvert_exporter": "python",
   "pygments_lexer": "ipython3",
   "version": "3.6.4"
  }
 },
 "nbformat": 4,
 "nbformat_minor": 2
}
